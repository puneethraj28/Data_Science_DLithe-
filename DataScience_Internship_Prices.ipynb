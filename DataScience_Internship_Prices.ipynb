{
  "nbformat": 4,
  "nbformat_minor": 0,
  "metadata": {
    "colab": {
      "name": "DataScience_Internship_Prices.ipynb",
      "provenance": [],
      "collapsed_sections": [],
      "authorship_tag": "ABX9TyMKArSn/sWeMVXj0ImP6vBR",
      "include_colab_link": true
    },
    "kernelspec": {
      "name": "python3",
      "display_name": "Python 3"
    },
    "language_info": {
      "name": "python"
    }
  },
  "cells": [
    {
      "cell_type": "markdown",
      "metadata": {
        "id": "view-in-github",
        "colab_type": "text"
      },
      "source": [
        "<a href=\"https://colab.research.google.com/github/puneethraj28/Data_Science_DLithe-/blob/main/DataScience_Internship_Prices.ipynb\" target=\"_parent\"><img src=\"https://colab.research.google.com/assets/colab-badge.svg\" alt=\"Open In Colab\"/></a>"
      ]
    },
    {
      "cell_type": "code",
      "metadata": {
        "id": "8_-gXFhI5K6H"
      },
      "source": [
        "import numpy as np\n",
        "import pandas as pd"
      ],
      "execution_count": 1,
      "outputs": []
    },
    {
      "cell_type": "code",
      "metadata": {
        "id": "lTB9zwHS57mk"
      },
      "source": [
        "df=pd.read_csv(\"prices.csv\")"
      ],
      "execution_count": 3,
      "outputs": []
    },
    {
      "cell_type": "code",
      "metadata": {
        "colab": {
          "base_uri": "https://localhost:8080/",
          "height": 202
        },
        "id": "jmrCe8gh6afo",
        "outputId": "cd80ceaa-da96-465c-de77-8122c5095362"
      },
      "source": [
        "df.head()"
      ],
      "execution_count": 4,
      "outputs": [
        {
          "output_type": "execute_result",
          "data": {
            "text/html": [
              "<div>\n",
              "<style scoped>\n",
              "    .dataframe tbody tr th:only-of-type {\n",
              "        vertical-align: middle;\n",
              "    }\n",
              "\n",
              "    .dataframe tbody tr th {\n",
              "        vertical-align: top;\n",
              "    }\n",
              "\n",
              "    .dataframe thead th {\n",
              "        text-align: right;\n",
              "    }\n",
              "</style>\n",
              "<table border=\"1\" class=\"dataframe\">\n",
              "  <thead>\n",
              "    <tr style=\"text-align: right;\">\n",
              "      <th></th>\n",
              "      <th>date</th>\n",
              "      <th>symbol</th>\n",
              "      <th>open</th>\n",
              "      <th>close</th>\n",
              "      <th>low</th>\n",
              "      <th>high</th>\n",
              "      <th>volume</th>\n",
              "    </tr>\n",
              "  </thead>\n",
              "  <tbody>\n",
              "    <tr>\n",
              "      <th>0</th>\n",
              "      <td>2016-01-05 00:00:00</td>\n",
              "      <td>WLTW</td>\n",
              "      <td>123.430000</td>\n",
              "      <td>125.839996</td>\n",
              "      <td>122.309998</td>\n",
              "      <td>126.250000</td>\n",
              "      <td>2163600.0</td>\n",
              "    </tr>\n",
              "    <tr>\n",
              "      <th>1</th>\n",
              "      <td>2016-01-06 00:00:00</td>\n",
              "      <td>WLTW</td>\n",
              "      <td>125.239998</td>\n",
              "      <td>119.980003</td>\n",
              "      <td>119.940002</td>\n",
              "      <td>125.540001</td>\n",
              "      <td>2386400.0</td>\n",
              "    </tr>\n",
              "    <tr>\n",
              "      <th>2</th>\n",
              "      <td>2016-01-07 00:00:00</td>\n",
              "      <td>WLTW</td>\n",
              "      <td>116.379997</td>\n",
              "      <td>114.949997</td>\n",
              "      <td>114.930000</td>\n",
              "      <td>119.739998</td>\n",
              "      <td>2489500.0</td>\n",
              "    </tr>\n",
              "    <tr>\n",
              "      <th>3</th>\n",
              "      <td>2016-01-08 00:00:00</td>\n",
              "      <td>WLTW</td>\n",
              "      <td>115.480003</td>\n",
              "      <td>116.620003</td>\n",
              "      <td>113.500000</td>\n",
              "      <td>117.440002</td>\n",
              "      <td>2006300.0</td>\n",
              "    </tr>\n",
              "    <tr>\n",
              "      <th>4</th>\n",
              "      <td>2016-01-11 00:00:00</td>\n",
              "      <td>WLTW</td>\n",
              "      <td>117.010002</td>\n",
              "      <td>114.970001</td>\n",
              "      <td>114.089996</td>\n",
              "      <td>117.330002</td>\n",
              "      <td>1408600.0</td>\n",
              "    </tr>\n",
              "  </tbody>\n",
              "</table>\n",
              "</div>"
            ],
            "text/plain": [
              "                  date symbol        open  ...         low        high     volume\n",
              "0  2016-01-05 00:00:00   WLTW  123.430000  ...  122.309998  126.250000  2163600.0\n",
              "1  2016-01-06 00:00:00   WLTW  125.239998  ...  119.940002  125.540001  2386400.0\n",
              "2  2016-01-07 00:00:00   WLTW  116.379997  ...  114.930000  119.739998  2489500.0\n",
              "3  2016-01-08 00:00:00   WLTW  115.480003  ...  113.500000  117.440002  2006300.0\n",
              "4  2016-01-11 00:00:00   WLTW  117.010002  ...  114.089996  117.330002  1408600.0\n",
              "\n",
              "[5 rows x 7 columns]"
            ]
          },
          "metadata": {
            "tags": []
          },
          "execution_count": 4
        }
      ]
    },
    {
      "cell_type": "code",
      "metadata": {
        "colab": {
          "base_uri": "https://localhost:8080/"
        },
        "id": "OComWPtq6kXy",
        "outputId": "d21c9fd0-7d6a-43c3-e1cb-bc5af45fd786"
      },
      "source": [
        "df.shape"
      ],
      "execution_count": 5,
      "outputs": [
        {
          "output_type": "execute_result",
          "data": {
            "text/plain": [
              "(88890, 7)"
            ]
          },
          "metadata": {
            "tags": []
          },
          "execution_count": 5
        }
      ]
    },
    {
      "cell_type": "code",
      "metadata": {
        "colab": {
          "base_uri": "https://localhost:8080/"
        },
        "id": "x8HtHzk16plW",
        "outputId": "82541c7e-0549-44e3-9a83-41429bbdc2b5"
      },
      "source": [
        "df.symbol.unique"
      ],
      "execution_count": 6,
      "outputs": [
        {
          "output_type": "execute_result",
          "data": {
            "text/plain": [
              "<bound method Series.unique of 0        WLTW\n",
              "1        WLTW\n",
              "2        WLTW\n",
              "3        WLTW\n",
              "4        WLTW\n",
              "         ... \n",
              "88885      CB\n",
              "88886     CBG\n",
              "88887     CBS\n",
              "88888     CCI\n",
              "88889     NaN\n",
              "Name: symbol, Length: 88890, dtype: object>"
            ]
          },
          "metadata": {
            "tags": []
          },
          "execution_count": 6
        }
      ]
    },
    {
      "cell_type": "code",
      "metadata": {
        "id": "eCZc3agH6uLT"
      },
      "source": [
        "df_yahoo = df[df['symbol']=='YHOO']"
      ],
      "execution_count": 7,
      "outputs": []
    },
    {
      "cell_type": "code",
      "metadata": {
        "colab": {
          "base_uri": "https://localhost:8080/",
          "height": 414
        },
        "id": "YZj8BrTA6z3D",
        "outputId": "4f1e1eb7-6b32-4306-fa9c-7a733e8a0694"
      },
      "source": [
        "df_yahoo"
      ],
      "execution_count": 8,
      "outputs": [
        {
          "output_type": "execute_result",
          "data": {
            "text/html": [
              "<div>\n",
              "<style scoped>\n",
              "    .dataframe tbody tr th:only-of-type {\n",
              "        vertical-align: middle;\n",
              "    }\n",
              "\n",
              "    .dataframe tbody tr th {\n",
              "        vertical-align: top;\n",
              "    }\n",
              "\n",
              "    .dataframe thead th {\n",
              "        text-align: right;\n",
              "    }\n",
              "</style>\n",
              "<table border=\"1\" class=\"dataframe\">\n",
              "  <thead>\n",
              "    <tr style=\"text-align: right;\">\n",
              "      <th></th>\n",
              "      <th>date</th>\n",
              "      <th>symbol</th>\n",
              "      <th>open</th>\n",
              "      <th>close</th>\n",
              "      <th>low</th>\n",
              "      <th>high</th>\n",
              "      <th>volume</th>\n",
              "    </tr>\n",
              "  </thead>\n",
              "  <tbody>\n",
              "    <tr>\n",
              "      <th>713</th>\n",
              "      <td>2010-01-04</td>\n",
              "      <td>YHOO</td>\n",
              "      <td>16.940001</td>\n",
              "      <td>17.100000</td>\n",
              "      <td>16.879999</td>\n",
              "      <td>17.200001</td>\n",
              "      <td>16587400.0</td>\n",
              "    </tr>\n",
              "    <tr>\n",
              "      <th>1181</th>\n",
              "      <td>2010-01-05</td>\n",
              "      <td>YHOO</td>\n",
              "      <td>17.219999</td>\n",
              "      <td>17.230000</td>\n",
              "      <td>17.000000</td>\n",
              "      <td>17.230000</td>\n",
              "      <td>11718100.0</td>\n",
              "    </tr>\n",
              "    <tr>\n",
              "      <th>1649</th>\n",
              "      <td>2010-01-06</td>\n",
              "      <td>YHOO</td>\n",
              "      <td>17.170000</td>\n",
              "      <td>17.170000</td>\n",
              "      <td>17.070000</td>\n",
              "      <td>17.299999</td>\n",
              "      <td>16422000.0</td>\n",
              "    </tr>\n",
              "    <tr>\n",
              "      <th>2117</th>\n",
              "      <td>2010-01-07</td>\n",
              "      <td>YHOO</td>\n",
              "      <td>16.809999</td>\n",
              "      <td>16.700001</td>\n",
              "      <td>16.570000</td>\n",
              "      <td>16.900000</td>\n",
              "      <td>31816300.0</td>\n",
              "    </tr>\n",
              "    <tr>\n",
              "      <th>2585</th>\n",
              "      <td>2010-01-08</td>\n",
              "      <td>YHOO</td>\n",
              "      <td>16.680000</td>\n",
              "      <td>16.700001</td>\n",
              "      <td>16.620001</td>\n",
              "      <td>16.760000</td>\n",
              "      <td>15470000.0</td>\n",
              "    </tr>\n",
              "    <tr>\n",
              "      <th>...</th>\n",
              "      <td>...</td>\n",
              "      <td>...</td>\n",
              "      <td>...</td>\n",
              "      <td>...</td>\n",
              "      <td>...</td>\n",
              "      <td>...</td>\n",
              "      <td>...</td>\n",
              "    </tr>\n",
              "    <tr>\n",
              "      <th>86931</th>\n",
              "      <td>2010-09-27</td>\n",
              "      <td>YHOO</td>\n",
              "      <td>14.460000</td>\n",
              "      <td>14.280000</td>\n",
              "      <td>14.250000</td>\n",
              "      <td>14.530000</td>\n",
              "      <td>20674000.0</td>\n",
              "    </tr>\n",
              "    <tr>\n",
              "      <th>87400</th>\n",
              "      <td>2010-09-28</td>\n",
              "      <td>YHOO</td>\n",
              "      <td>14.330000</td>\n",
              "      <td>14.390000</td>\n",
              "      <td>14.140000</td>\n",
              "      <td>14.450000</td>\n",
              "      <td>16074100.0</td>\n",
              "    </tr>\n",
              "    <tr>\n",
              "      <th>87869</th>\n",
              "      <td>2010-09-29</td>\n",
              "      <td>YHOO</td>\n",
              "      <td>14.360000</td>\n",
              "      <td>14.340000</td>\n",
              "      <td>14.060000</td>\n",
              "      <td>14.390000</td>\n",
              "      <td>24475700.0</td>\n",
              "    </tr>\n",
              "    <tr>\n",
              "      <th>88338</th>\n",
              "      <td>2010-09-30</td>\n",
              "      <td>YHOO</td>\n",
              "      <td>14.260000</td>\n",
              "      <td>14.170000</td>\n",
              "      <td>13.990000</td>\n",
              "      <td>14.350000</td>\n",
              "      <td>20376200.0</td>\n",
              "    </tr>\n",
              "    <tr>\n",
              "      <th>88807</th>\n",
              "      <td>2010-10-01</td>\n",
              "      <td>YHOO</td>\n",
              "      <td>14.190000</td>\n",
              "      <td>14.270000</td>\n",
              "      <td>14.130000</td>\n",
              "      <td>14.350000</td>\n",
              "      <td>16096500.0</td>\n",
              "    </tr>\n",
              "  </tbody>\n",
              "</table>\n",
              "<p>189 rows × 7 columns</p>\n",
              "</div>"
            ],
            "text/plain": [
              "             date symbol       open  ...        low       high      volume\n",
              "713    2010-01-04   YHOO  16.940001  ...  16.879999  17.200001  16587400.0\n",
              "1181   2010-01-05   YHOO  17.219999  ...  17.000000  17.230000  11718100.0\n",
              "1649   2010-01-06   YHOO  17.170000  ...  17.070000  17.299999  16422000.0\n",
              "2117   2010-01-07   YHOO  16.809999  ...  16.570000  16.900000  31816300.0\n",
              "2585   2010-01-08   YHOO  16.680000  ...  16.620001  16.760000  15470000.0\n",
              "...           ...    ...        ...  ...        ...        ...         ...\n",
              "86931  2010-09-27   YHOO  14.460000  ...  14.250000  14.530000  20674000.0\n",
              "87400  2010-09-28   YHOO  14.330000  ...  14.140000  14.450000  16074100.0\n",
              "87869  2010-09-29   YHOO  14.360000  ...  14.060000  14.390000  24475700.0\n",
              "88338  2010-09-30   YHOO  14.260000  ...  13.990000  14.350000  20376200.0\n",
              "88807  2010-10-01   YHOO  14.190000  ...  14.130000  14.350000  16096500.0\n",
              "\n",
              "[189 rows x 7 columns]"
            ]
          },
          "metadata": {
            "tags": []
          },
          "execution_count": 8
        }
      ]
    },
    {
      "cell_type": "code",
      "metadata": {
        "colab": {
          "base_uri": "https://localhost:8080/"
        },
        "id": "-4D9YIbk62UR",
        "outputId": "6179642c-d0ff-4ee3-b90e-b5cb6f665341"
      },
      "source": [
        "df_yahoo.shape"
      ],
      "execution_count": 9,
      "outputs": [
        {
          "output_type": "execute_result",
          "data": {
            "text/plain": [
              "(189, 7)"
            ]
          },
          "metadata": {
            "tags": []
          },
          "execution_count": 9
        }
      ]
    },
    {
      "cell_type": "code",
      "metadata": {
        "colab": {
          "base_uri": "https://localhost:8080/",
          "height": 294
        },
        "id": "xKP43ktV67PR",
        "outputId": "cb28f68b-72cd-4bfa-e9d9-508a5b7be7bc"
      },
      "source": [
        "df.describe()"
      ],
      "execution_count": 10,
      "outputs": [
        {
          "output_type": "execute_result",
          "data": {
            "text/html": [
              "<div>\n",
              "<style scoped>\n",
              "    .dataframe tbody tr th:only-of-type {\n",
              "        vertical-align: middle;\n",
              "    }\n",
              "\n",
              "    .dataframe tbody tr th {\n",
              "        vertical-align: top;\n",
              "    }\n",
              "\n",
              "    .dataframe thead th {\n",
              "        text-align: right;\n",
              "    }\n",
              "</style>\n",
              "<table border=\"1\" class=\"dataframe\">\n",
              "  <thead>\n",
              "    <tr style=\"text-align: right;\">\n",
              "      <th></th>\n",
              "      <th>open</th>\n",
              "      <th>close</th>\n",
              "      <th>low</th>\n",
              "      <th>high</th>\n",
              "      <th>volume</th>\n",
              "    </tr>\n",
              "  </thead>\n",
              "  <tbody>\n",
              "    <tr>\n",
              "      <th>count</th>\n",
              "      <td>88889.000000</td>\n",
              "      <td>88889.000000</td>\n",
              "      <td>88889.000000</td>\n",
              "      <td>88889.000000</td>\n",
              "      <td>8.888900e+04</td>\n",
              "    </tr>\n",
              "    <tr>\n",
              "      <th>mean</th>\n",
              "      <td>47.201400</td>\n",
              "      <td>47.214719</td>\n",
              "      <td>46.602479</td>\n",
              "      <td>47.765894</td>\n",
              "      <td>7.432795e+06</td>\n",
              "    </tr>\n",
              "    <tr>\n",
              "      <th>std</th>\n",
              "      <td>46.621679</td>\n",
              "      <td>46.588172</td>\n",
              "      <td>46.046823</td>\n",
              "      <td>47.130596</td>\n",
              "      <td>1.673095e+07</td>\n",
              "    </tr>\n",
              "    <tr>\n",
              "      <th>min</th>\n",
              "      <td>0.940000</td>\n",
              "      <td>0.930000</td>\n",
              "      <td>0.930000</td>\n",
              "      <td>0.960000</td>\n",
              "      <td>0.000000e+00</td>\n",
              "    </tr>\n",
              "    <tr>\n",
              "      <th>25%</th>\n",
              "      <td>24.760000</td>\n",
              "      <td>24.740000</td>\n",
              "      <td>24.410000</td>\n",
              "      <td>25.040001</td>\n",
              "      <td>1.582300e+06</td>\n",
              "    </tr>\n",
              "    <tr>\n",
              "      <th>50%</th>\n",
              "      <td>38.369999</td>\n",
              "      <td>38.369999</td>\n",
              "      <td>37.889999</td>\n",
              "      <td>38.840000</td>\n",
              "      <td>3.328300e+06</td>\n",
              "    </tr>\n",
              "    <tr>\n",
              "      <th>75%</th>\n",
              "      <td>55.779999</td>\n",
              "      <td>55.840000</td>\n",
              "      <td>55.119999</td>\n",
              "      <td>56.430000</td>\n",
              "      <td>6.921100e+06</td>\n",
              "    </tr>\n",
              "    <tr>\n",
              "      <th>max</th>\n",
              "      <td>627.181073</td>\n",
              "      <td>626.751061</td>\n",
              "      <td>624.241073</td>\n",
              "      <td>629.511067</td>\n",
              "      <td>5.890618e+08</td>\n",
              "    </tr>\n",
              "  </tbody>\n",
              "</table>\n",
              "</div>"
            ],
            "text/plain": [
              "               open         close           low          high        volume\n",
              "count  88889.000000  88889.000000  88889.000000  88889.000000  8.888900e+04\n",
              "mean      47.201400     47.214719     46.602479     47.765894  7.432795e+06\n",
              "std       46.621679     46.588172     46.046823     47.130596  1.673095e+07\n",
              "min        0.940000      0.930000      0.930000      0.960000  0.000000e+00\n",
              "25%       24.760000     24.740000     24.410000     25.040001  1.582300e+06\n",
              "50%       38.369999     38.369999     37.889999     38.840000  3.328300e+06\n",
              "75%       55.779999     55.840000     55.119999     56.430000  6.921100e+06\n",
              "max      627.181073    626.751061    624.241073    629.511067  5.890618e+08"
            ]
          },
          "metadata": {
            "tags": []
          },
          "execution_count": 10
        }
      ]
    },
    {
      "cell_type": "code",
      "metadata": {
        "colab": {
          "base_uri": "https://localhost:8080/"
        },
        "id": "_60CcARA6-ud",
        "outputId": "bfaaa186-d497-4676-bdd1-505384e5b2cf"
      },
      "source": [
        "print(\"Starting date : {}\".format(df['date'].min()))\n",
        "print(\"Ending   date : {}\".format(df['date'].max()))"
      ],
      "execution_count": 11,
      "outputs": [
        {
          "output_type": "stream",
          "text": [
            "Starting date : 2010-01-04\n",
            "Ending   date : 2016-12-30 00:00:00\n"
          ],
          "name": "stdout"
        }
      ]
    },
    {
      "cell_type": "code",
      "metadata": {
        "colab": {
          "base_uri": "https://localhost:8080/"
        },
        "id": "VMZSvdNV7OB_",
        "outputId": "3045725a-b7f5-49cf-9bed-b8be281e147e"
      },
      "source": [
        "df.info()"
      ],
      "execution_count": 12,
      "outputs": [
        {
          "output_type": "stream",
          "text": [
            "<class 'pandas.core.frame.DataFrame'>\n",
            "RangeIndex: 88890 entries, 0 to 88889\n",
            "Data columns (total 7 columns):\n",
            " #   Column  Non-Null Count  Dtype  \n",
            "---  ------  --------------  -----  \n",
            " 0   date    88890 non-null  object \n",
            " 1   symbol  88889 non-null  object \n",
            " 2   open    88889 non-null  float64\n",
            " 3   close   88889 non-null  float64\n",
            " 4   low     88889 non-null  float64\n",
            " 5   high    88889 non-null  float64\n",
            " 6   volume  88889 non-null  float64\n",
            "dtypes: float64(5), object(2)\n",
            "memory usage: 4.7+ MB\n"
          ],
          "name": "stdout"
        }
      ]
    },
    {
      "cell_type": "code",
      "metadata": {
        "colab": {
          "base_uri": "https://localhost:8080/",
          "height": 206
        },
        "id": "gWVzpeuT7Qwx",
        "outputId": "85766052-51bb-44b9-82e0-bfa22650cba3"
      },
      "source": [
        "print(\"Lowest Stock Price : \\n\")\n",
        "df[['date','symbol','low']][df['low']==df['low'].min()]"
      ],
      "execution_count": 14,
      "outputs": [
        {
          "output_type": "stream",
          "text": [
            "Lowest Stock Price : \n",
            "\n"
          ],
          "name": "stdout"
        },
        {
          "output_type": "execute_result",
          "data": {
            "text/html": [
              "<div>\n",
              "<style scoped>\n",
              "    .dataframe tbody tr th:only-of-type {\n",
              "        vertical-align: middle;\n",
              "    }\n",
              "\n",
              "    .dataframe tbody tr th {\n",
              "        vertical-align: top;\n",
              "    }\n",
              "\n",
              "    .dataframe thead th {\n",
              "        text-align: right;\n",
              "    }\n",
              "</style>\n",
              "<table border=\"1\" class=\"dataframe\">\n",
              "  <thead>\n",
              "    <tr style=\"text-align: right;\">\n",
              "      <th></th>\n",
              "      <th>date</th>\n",
              "      <th>symbol</th>\n",
              "      <th>low</th>\n",
              "    </tr>\n",
              "  </thead>\n",
              "  <tbody>\n",
              "    <tr>\n",
              "      <th>85796</th>\n",
              "      <td>2010-09-23</td>\n",
              "      <td>LVLT</td>\n",
              "      <td>0.93</td>\n",
              "    </tr>\n",
              "    <tr>\n",
              "      <th>86734</th>\n",
              "      <td>2010-09-27</td>\n",
              "      <td>LVLT</td>\n",
              "      <td>0.93</td>\n",
              "    </tr>\n",
              "    <tr>\n",
              "      <th>88141</th>\n",
              "      <td>2010-09-30</td>\n",
              "      <td>LVLT</td>\n",
              "      <td>0.93</td>\n",
              "    </tr>\n",
              "    <tr>\n",
              "      <th>88610</th>\n",
              "      <td>2010-10-01</td>\n",
              "      <td>LVLT</td>\n",
              "      <td>0.93</td>\n",
              "    </tr>\n",
              "  </tbody>\n",
              "</table>\n",
              "</div>"
            ],
            "text/plain": [
              "             date symbol   low\n",
              "85796  2010-09-23   LVLT  0.93\n",
              "86734  2010-09-27   LVLT  0.93\n",
              "88141  2010-09-30   LVLT  0.93\n",
              "88610  2010-10-01   LVLT  0.93"
            ]
          },
          "metadata": {
            "tags": []
          },
          "execution_count": 14
        }
      ]
    },
    {
      "cell_type": "code",
      "metadata": {
        "colab": {
          "base_uri": "https://localhost:8080/",
          "height": 114
        },
        "id": "zGcbvGJ67W3B",
        "outputId": "62950d9b-5d60-49a5-de30-8a1113ad3c47"
      },
      "source": [
        "print(\"Highest Stock Price : \\n\")\n",
        "\n",
        "df[['date','symbol','high']][df['high']==df['high'].max()]"
      ],
      "execution_count": 15,
      "outputs": [
        {
          "output_type": "stream",
          "text": [
            "Highest Stock Price : \n",
            "\n"
          ],
          "name": "stdout"
        },
        {
          "output_type": "execute_result",
          "data": {
            "text/html": [
              "<div>\n",
              "<style scoped>\n",
              "    .dataframe tbody tr th:only-of-type {\n",
              "        vertical-align: middle;\n",
              "    }\n",
              "\n",
              "    .dataframe tbody tr th {\n",
              "        vertical-align: top;\n",
              "    }\n",
              "\n",
              "    .dataframe thead th {\n",
              "        text-align: right;\n",
              "    }\n",
              "</style>\n",
              "<table border=\"1\" class=\"dataframe\">\n",
              "  <thead>\n",
              "    <tr style=\"text-align: right;\">\n",
              "      <th></th>\n",
              "      <th>date</th>\n",
              "      <th>symbol</th>\n",
              "      <th>high</th>\n",
              "    </tr>\n",
              "  </thead>\n",
              "  <tbody>\n",
              "    <tr>\n",
              "      <th>439</th>\n",
              "      <td>2010-01-04</td>\n",
              "      <td>GOOG</td>\n",
              "      <td>629.511067</td>\n",
              "    </tr>\n",
              "  </tbody>\n",
              "</table>\n",
              "</div>"
            ],
            "text/plain": [
              "           date symbol        high\n",
              "439  2010-01-04   GOOG  629.511067"
            ]
          },
          "metadata": {
            "tags": []
          },
          "execution_count": 15
        }
      ]
    },
    {
      "cell_type": "code",
      "metadata": {
        "colab": {
          "base_uri": "https://localhost:8080/",
          "height": 636
        },
        "id": "gjxGWjxj8HS2",
        "outputId": "2d802e9e-53ae-4d78-9272-e96ebd59fe57"
      },
      "source": [
        "print(\"Minimum Stock Volume : \\n\")\n",
        "df[df['volume']==df['volume'].min()]"
      ],
      "execution_count": 16,
      "outputs": [
        {
          "output_type": "stream",
          "text": [
            "Minimum Stock Volume : \n",
            "\n"
          ],
          "name": "stdout"
        },
        {
          "output_type": "execute_result",
          "data": {
            "text/html": [
              "<div>\n",
              "<style scoped>\n",
              "    .dataframe tbody tr th:only-of-type {\n",
              "        vertical-align: middle;\n",
              "    }\n",
              "\n",
              "    .dataframe tbody tr th {\n",
              "        vertical-align: top;\n",
              "    }\n",
              "\n",
              "    .dataframe thead th {\n",
              "        text-align: right;\n",
              "    }\n",
              "</style>\n",
              "<table border=\"1\" class=\"dataframe\">\n",
              "  <thead>\n",
              "    <tr style=\"text-align: right;\">\n",
              "      <th></th>\n",
              "      <th>date</th>\n",
              "      <th>symbol</th>\n",
              "      <th>open</th>\n",
              "      <th>close</th>\n",
              "      <th>low</th>\n",
              "      <th>high</th>\n",
              "      <th>volume</th>\n",
              "    </tr>\n",
              "  </thead>\n",
              "  <tbody>\n",
              "    <tr>\n",
              "      <th>1270</th>\n",
              "      <td>2010-01-06</td>\n",
              "      <td>CHTR</td>\n",
              "      <td>35.000000</td>\n",
              "      <td>35.000000</td>\n",
              "      <td>35.000000</td>\n",
              "      <td>35.000000</td>\n",
              "      <td>0.0</td>\n",
              "    </tr>\n",
              "    <tr>\n",
              "      <th>13906</th>\n",
              "      <td>2010-02-16</td>\n",
              "      <td>CHTR</td>\n",
              "      <td>29.740000</td>\n",
              "      <td>29.740000</td>\n",
              "      <td>29.740000</td>\n",
              "      <td>29.740000</td>\n",
              "      <td>0.0</td>\n",
              "    </tr>\n",
              "    <tr>\n",
              "      <th>14374</th>\n",
              "      <td>2010-02-17</td>\n",
              "      <td>CHTR</td>\n",
              "      <td>29.740000</td>\n",
              "      <td>29.740000</td>\n",
              "      <td>29.740000</td>\n",
              "      <td>29.740000</td>\n",
              "      <td>0.0</td>\n",
              "    </tr>\n",
              "    <tr>\n",
              "      <th>15310</th>\n",
              "      <td>2010-02-19</td>\n",
              "      <td>CHTR</td>\n",
              "      <td>29.700001</td>\n",
              "      <td>29.700001</td>\n",
              "      <td>29.700001</td>\n",
              "      <td>29.700001</td>\n",
              "      <td>0.0</td>\n",
              "    </tr>\n",
              "    <tr>\n",
              "      <th>16246</th>\n",
              "      <td>2010-02-23</td>\n",
              "      <td>CHTR</td>\n",
              "      <td>29.700001</td>\n",
              "      <td>29.700001</td>\n",
              "      <td>29.700001</td>\n",
              "      <td>29.700001</td>\n",
              "      <td>0.0</td>\n",
              "    </tr>\n",
              "    <tr>\n",
              "      <th>16714</th>\n",
              "      <td>2010-02-24</td>\n",
              "      <td>CHTR</td>\n",
              "      <td>29.700001</td>\n",
              "      <td>29.700001</td>\n",
              "      <td>29.700001</td>\n",
              "      <td>29.700001</td>\n",
              "      <td>0.0</td>\n",
              "    </tr>\n",
              "    <tr>\n",
              "      <th>30754</th>\n",
              "      <td>2010-04-08</td>\n",
              "      <td>CHTR</td>\n",
              "      <td>34.549999</td>\n",
              "      <td>34.549999</td>\n",
              "      <td>34.549999</td>\n",
              "      <td>34.549999</td>\n",
              "      <td>0.0</td>\n",
              "    </tr>\n",
              "    <tr>\n",
              "      <th>32158</th>\n",
              "      <td>2010-04-13</td>\n",
              "      <td>CHTR</td>\n",
              "      <td>35.000000</td>\n",
              "      <td>35.000000</td>\n",
              "      <td>35.000000</td>\n",
              "      <td>35.000000</td>\n",
              "      <td>0.0</td>\n",
              "    </tr>\n",
              "    <tr>\n",
              "      <th>34498</th>\n",
              "      <td>2010-04-20</td>\n",
              "      <td>CHTR</td>\n",
              "      <td>36.009998</td>\n",
              "      <td>36.009998</td>\n",
              "      <td>36.009998</td>\n",
              "      <td>36.009998</td>\n",
              "      <td>0.0</td>\n",
              "    </tr>\n",
              "    <tr>\n",
              "      <th>42465</th>\n",
              "      <td>2010-05-13</td>\n",
              "      <td>CHTR</td>\n",
              "      <td>38.000000</td>\n",
              "      <td>38.000000</td>\n",
              "      <td>38.000000</td>\n",
              "      <td>38.000000</td>\n",
              "      <td>0.0</td>\n",
              "    </tr>\n",
              "    <tr>\n",
              "      <th>51376</th>\n",
              "      <td>2010-06-10</td>\n",
              "      <td>CHTR</td>\n",
              "      <td>34.520000</td>\n",
              "      <td>34.520000</td>\n",
              "      <td>34.520000</td>\n",
              "      <td>34.520000</td>\n",
              "      <td>0.0</td>\n",
              "    </tr>\n",
              "    <tr>\n",
              "      <th>56535</th>\n",
              "      <td>2010-06-25</td>\n",
              "      <td>CHTR</td>\n",
              "      <td>35.599998</td>\n",
              "      <td>35.599998</td>\n",
              "      <td>35.599998</td>\n",
              "      <td>35.599998</td>\n",
              "      <td>0.0</td>\n",
              "    </tr>\n",
              "    <tr>\n",
              "      <th>72012</th>\n",
              "      <td>2010-08-12</td>\n",
              "      <td>CHTR</td>\n",
              "      <td>36.200001</td>\n",
              "      <td>36.200001</td>\n",
              "      <td>36.200001</td>\n",
              "      <td>36.200001</td>\n",
              "      <td>0.0</td>\n",
              "    </tr>\n",
              "    <tr>\n",
              "      <th>73888</th>\n",
              "      <td>2010-08-18</td>\n",
              "      <td>CHTR</td>\n",
              "      <td>35.049999</td>\n",
              "      <td>35.049999</td>\n",
              "      <td>35.049999</td>\n",
              "      <td>35.049999</td>\n",
              "      <td>0.0</td>\n",
              "    </tr>\n",
              "    <tr>\n",
              "      <th>77640</th>\n",
              "      <td>2010-08-30</td>\n",
              "      <td>CHTR</td>\n",
              "      <td>33.750000</td>\n",
              "      <td>33.750000</td>\n",
              "      <td>33.750000</td>\n",
              "      <td>33.750000</td>\n",
              "      <td>0.0</td>\n",
              "    </tr>\n",
              "    <tr>\n",
              "      <th>78109</th>\n",
              "      <td>2010-08-31</td>\n",
              "      <td>CHTR</td>\n",
              "      <td>33.750000</td>\n",
              "      <td>33.750000</td>\n",
              "      <td>33.750000</td>\n",
              "      <td>33.750000</td>\n",
              "      <td>0.0</td>\n",
              "    </tr>\n",
              "    <tr>\n",
              "      <th>79985</th>\n",
              "      <td>2010-09-07</td>\n",
              "      <td>CHTR</td>\n",
              "      <td>34.000000</td>\n",
              "      <td>34.000000</td>\n",
              "      <td>34.000000</td>\n",
              "      <td>34.000000</td>\n",
              "      <td>0.0</td>\n",
              "    </tr>\n",
              "    <tr>\n",
              "      <th>80454</th>\n",
              "      <td>2010-09-08</td>\n",
              "      <td>CHTR</td>\n",
              "      <td>34.000000</td>\n",
              "      <td>34.000000</td>\n",
              "      <td>34.000000</td>\n",
              "      <td>34.000000</td>\n",
              "      <td>0.0</td>\n",
              "    </tr>\n",
              "  </tbody>\n",
              "</table>\n",
              "</div>"
            ],
            "text/plain": [
              "             date symbol       open      close        low       high  volume\n",
              "1270   2010-01-06   CHTR  35.000000  35.000000  35.000000  35.000000     0.0\n",
              "13906  2010-02-16   CHTR  29.740000  29.740000  29.740000  29.740000     0.0\n",
              "14374  2010-02-17   CHTR  29.740000  29.740000  29.740000  29.740000     0.0\n",
              "15310  2010-02-19   CHTR  29.700001  29.700001  29.700001  29.700001     0.0\n",
              "16246  2010-02-23   CHTR  29.700001  29.700001  29.700001  29.700001     0.0\n",
              "16714  2010-02-24   CHTR  29.700001  29.700001  29.700001  29.700001     0.0\n",
              "30754  2010-04-08   CHTR  34.549999  34.549999  34.549999  34.549999     0.0\n",
              "32158  2010-04-13   CHTR  35.000000  35.000000  35.000000  35.000000     0.0\n",
              "34498  2010-04-20   CHTR  36.009998  36.009998  36.009998  36.009998     0.0\n",
              "42465  2010-05-13   CHTR  38.000000  38.000000  38.000000  38.000000     0.0\n",
              "51376  2010-06-10   CHTR  34.520000  34.520000  34.520000  34.520000     0.0\n",
              "56535  2010-06-25   CHTR  35.599998  35.599998  35.599998  35.599998     0.0\n",
              "72012  2010-08-12   CHTR  36.200001  36.200001  36.200001  36.200001     0.0\n",
              "73888  2010-08-18   CHTR  35.049999  35.049999  35.049999  35.049999     0.0\n",
              "77640  2010-08-30   CHTR  33.750000  33.750000  33.750000  33.750000     0.0\n",
              "78109  2010-08-31   CHTR  33.750000  33.750000  33.750000  33.750000     0.0\n",
              "79985  2010-09-07   CHTR  34.000000  34.000000  34.000000  34.000000     0.0\n",
              "80454  2010-09-08   CHTR  34.000000  34.000000  34.000000  34.000000     0.0"
            ]
          },
          "metadata": {
            "tags": []
          },
          "execution_count": 16
        }
      ]
    },
    {
      "cell_type": "code",
      "metadata": {
        "colab": {
          "base_uri": "https://localhost:8080/",
          "height": 114
        },
        "id": "ReNgDf038Qt_",
        "outputId": "ac3d9035-4331-442c-8781-eaf131eeb3d9"
      },
      "source": [
        "print(\"Maximum Stock Volume : \\n\")\n",
        "df[df['volume']==df['volume'].max()]"
      ],
      "execution_count": 17,
      "outputs": [
        {
          "output_type": "stream",
          "text": [
            "Maximum Stock Volume : \n",
            "\n"
          ],
          "name": "stdout"
        },
        {
          "output_type": "execute_result",
          "data": {
            "text/html": [
              "<div>\n",
              "<style scoped>\n",
              "    .dataframe tbody tr th:only-of-type {\n",
              "        vertical-align: middle;\n",
              "    }\n",
              "\n",
              "    .dataframe tbody tr th {\n",
              "        vertical-align: top;\n",
              "    }\n",
              "\n",
              "    .dataframe thead th {\n",
              "        text-align: right;\n",
              "    }\n",
              "</style>\n",
              "<table border=\"1\" class=\"dataframe\">\n",
              "  <thead>\n",
              "    <tr style=\"text-align: right;\">\n",
              "      <th></th>\n",
              "      <th>date</th>\n",
              "      <th>symbol</th>\n",
              "      <th>open</th>\n",
              "      <th>close</th>\n",
              "      <th>low</th>\n",
              "      <th>high</th>\n",
              "      <th>volume</th>\n",
              "    </tr>\n",
              "  </thead>\n",
              "  <tbody>\n",
              "    <tr>\n",
              "      <th>33529</th>\n",
              "      <td>2010-04-16</td>\n",
              "      <td>BAC</td>\n",
              "      <td>19.469999</td>\n",
              "      <td>18.41</td>\n",
              "      <td>18.049999</td>\n",
              "      <td>19.48</td>\n",
              "      <td>589061800.0</td>\n",
              "    </tr>\n",
              "  </tbody>\n",
              "</table>\n",
              "</div>"
            ],
            "text/plain": [
              "             date symbol       open  close        low   high       volume\n",
              "33529  2010-04-16    BAC  19.469999  18.41  18.049999  19.48  589061800.0"
            ]
          },
          "metadata": {
            "tags": []
          },
          "execution_count": 17
        }
      ]
    },
    {
      "cell_type": "code",
      "metadata": {
        "colab": {
          "base_uri": "https://localhost:8080/"
        },
        "id": "UuprOKnp8Urz",
        "outputId": "61277c66-b07f-47be-d89b-a18f0a44ad39"
      },
      "source": [
        "print(\"Number of Companies : \",df['symbol'].nunique())\n",
        "df['symbol'].unique()"
      ],
      "execution_count": 18,
      "outputs": [
        {
          "output_type": "stream",
          "text": [
            "Number of Companies :  470\n"
          ],
          "name": "stdout"
        },
        {
          "output_type": "execute_result",
          "data": {
            "text/plain": [
              "array(['WLTW', 'A', 'AAL', 'AAP', 'AAPL', 'ABC', 'ABT', 'ACN', 'ADBE',\n",
              "       'ADI', 'ADM', 'ADP', 'ADS', 'ADSK', 'AEE', 'AEP', 'AES', 'AET',\n",
              "       'AFL', 'AGN', 'AIG', 'AIZ', 'AJG', 'AKAM', 'ALB', 'ALK', 'ALL',\n",
              "       'ALXN', 'AMAT', 'AME', 'AMG', 'AMGN', 'AMP', 'AMT', 'AMZN', 'AN',\n",
              "       'ANTM', 'AON', 'APA', 'APC', 'APD', 'APH', 'ARNC', 'ATVI', 'AVB',\n",
              "       'AVGO', 'AVY', 'AWK', 'AXP', 'AYI', 'AZO', 'BA', 'BAC', 'BAX',\n",
              "       'BBBY', 'BBT', 'BBY', 'BCR', 'BDX', 'BEN', 'BHI', 'BIIB', 'BK',\n",
              "       'BLK', 'BLL', 'BMY', 'BSX', 'BWA', 'BXP', 'C', 'CA', 'CAG', 'CAH',\n",
              "       'CAT', 'CB', 'CBG', 'CBS', 'CCI', 'CCL', 'CELG', 'CERN', 'CF',\n",
              "       'CHD', 'CHK', 'CHRW', 'CI', 'CINF', 'CL', 'CLX', 'CMA', 'CMCSA',\n",
              "       'CME', 'CMG', 'CMI', 'CMS', 'CNC', 'CNP', 'COF', 'COG', 'COH',\n",
              "       'COL', 'COO', 'COP', 'COST', 'CPB', 'CRM', 'CSCO', 'CSX', 'CTAS',\n",
              "       'CTL', 'CTSH', 'CTXS', 'CVS', 'CVX', 'CXO', 'D', 'DAL', 'DD', 'DE',\n",
              "       'DFS', 'DG', 'DGX', 'DHI', 'DHR', 'DIS', 'DISCA', 'DISCK', 'DLR',\n",
              "       'DLTR', 'DNB', 'DOV', 'DOW', 'DPS', 'DRI', 'DTE', 'DUK', 'DVA',\n",
              "       'DVN', 'EA', 'EBAY', 'ECL', 'ED', 'EFX', 'EIX', 'EL', 'EMN', 'EMR',\n",
              "       'ENDP', 'EOG', 'EQIX', 'EQR', 'EQT', 'ES', 'ESRX', 'ESS', 'ETFC',\n",
              "       'ETN', 'ETR', 'EW', 'EXC', 'EXPD', 'EXPE', 'EXR', 'F', 'FAST',\n",
              "       'FCX', 'FDX', 'FE', 'FFIV', 'FIS', 'FISV', 'FITB', 'FL', 'FLIR',\n",
              "       'FLR', 'FLS', 'FMC', 'FOX', 'FOXA', 'FRT', 'FSLR', 'FTI', 'FTR',\n",
              "       'GD', 'GE', 'GGP', 'GILD', 'GIS', 'GLW', 'GOOG', 'GOOGL', 'GPC',\n",
              "       'GPN', 'GPS', 'GRMN', 'GS', 'GT', 'GWW', 'HAL', 'HAR', 'HAS',\n",
              "       'HBAN', 'HBI', 'HCN', 'HCP', 'HD', 'HES', 'HIG', 'HOG', 'HOLX',\n",
              "       'HON', 'HP', 'HPQ', 'HRB', 'HRL', 'HRS', 'HSIC', 'HST', 'HSY',\n",
              "       'HUM', 'IBM', 'ICE', 'IDXX', 'IFF', 'ILMN', 'INTC', 'INTU', 'IP',\n",
              "       'IPG', 'IR', 'IRM', 'ISRG', 'ITW', 'IVZ', 'JBHT', 'JCI', 'JEC',\n",
              "       'JNJ', 'JNPR', 'JPM', 'JWN', 'K', 'KEY', 'KIM', 'KLAC', 'KMB',\n",
              "       'KMX', 'KO', 'KR', 'KSS', 'KSU', 'L', 'LB', 'LEG', 'LEN', 'LH',\n",
              "       'LKQ', 'LLL', 'LLTC', 'LLY', 'LMT', 'LNC', 'LNT', 'LOW', 'LRCX',\n",
              "       'LUK', 'LUV', 'LVLT', 'M', 'MA', 'MAA', 'MAC', 'MAR', 'MAS', 'MAT',\n",
              "       'MCD', 'MCHP', 'MCK', 'MCO', 'MDLZ', 'MDT', 'MET', 'MHK', 'MJN',\n",
              "       'MKC', 'MLM', 'MMC', 'MMM', 'MNST', 'MO', 'MON', 'MOS', 'MRK',\n",
              "       'MRO', 'MSFT', 'MSI', 'MTB', 'MTD', 'MU', 'MUR', 'MYL', 'NBL',\n",
              "       'NDAQ', 'NEE', 'NEM', 'NFLX', 'NFX', 'NI', 'NKE', 'NOC', 'NOV',\n",
              "       'NRG', 'NSC', 'NTAP', 'NTRS', 'NUE', 'NVDA', 'NWL', 'O', 'OKE',\n",
              "       'OMC', 'ORCL', 'ORLY', 'OXY', 'PAYX', 'PBCT', 'PBI', 'PCAR', 'PCG',\n",
              "       'PCLN', 'PDCO', 'PEG', 'PEP', 'PFE', 'PFG', 'PG', 'PGR', 'PH',\n",
              "       'PHM', 'PKI', 'PLD', 'PM', 'PNC', 'PNR', 'PNW', 'PPG', 'PPL',\n",
              "       'PRGO', 'PRU', 'PSA', 'PVH', 'PWR', 'PX', 'PXD', 'QCOM', 'R',\n",
              "       'RAI', 'RCL', 'REGN', 'RF', 'RHI', 'RHT', 'RIG', 'RL', 'ROK',\n",
              "       'ROP', 'ROST', 'RRC', 'RSG', 'RTN', 'SBUX', 'SCG', 'SCHW', 'SE',\n",
              "       'SEE', 'SHW', 'SIG', 'SJM', 'SLB', 'SLG', 'SNA', 'SNI', 'SO',\n",
              "       'SPG', 'SPGI', 'SPLS', 'SRCL', 'SRE', 'STI', 'STT', 'STX', 'STZ',\n",
              "       'SWK', 'SWKS', 'SWN', 'SYK', 'SYMC', 'SYY', 'T', 'TAP', 'TDC',\n",
              "       'TEL', 'TGNA', 'TGT', 'TIF', 'TJX', 'TMK', 'TMO', 'TROW', 'TRV',\n",
              "       'TSCO', 'TSN', 'TSO', 'TSS', 'TWX', 'TXN', 'TXT', 'UAA', 'UAL',\n",
              "       'UDR', 'UHS', 'ULTA', 'UNH', 'UNM', 'UNP', 'UPS', 'URBN', 'URI',\n",
              "       'USB', 'UTX', 'V', 'VAR', 'VFC', 'VIAB', 'VLO', 'VMC', 'VNO',\n",
              "       'VRSK', 'VRSN', 'VRTX', 'VTR', 'VZ', 'WAT', 'WBA', 'WDC', 'WEC',\n",
              "       'WFC', 'WFM', 'WHR', 'WM', 'WMB', 'WMT', 'WU', 'WY', 'WYN', 'WYNN',\n",
              "       'XEC', 'XEL', 'XL', 'XLNX', 'XOM', 'XRAY', 'XRX', 'YHOO', 'YUM',\n",
              "       'ZBH', 'ZION', 'AIV', 'CHTR', 'LYB', nan], dtype=object)"
            ]
          },
          "metadata": {
            "tags": []
          },
          "execution_count": 18
        }
      ]
    },
    {
      "cell_type": "markdown",
      "metadata": {
        "id": "8fnS0lB88sJg"
      },
      "source": [
        "#Extract GOOGLE stock data and analyze it"
      ]
    },
    {
      "cell_type": "code",
      "metadata": {
        "colab": {
          "base_uri": "https://localhost:8080/",
          "height": 414
        },
        "id": "P1fsoORU8x-J",
        "outputId": "844eef95-9043-4d7f-edad-be6090d883f2"
      },
      "source": [
        "df1=df[df['symbol']=='GOOGL']\n",
        "df1"
      ],
      "execution_count": 19,
      "outputs": [
        {
          "output_type": "execute_result",
          "data": {
            "text/html": [
              "<div>\n",
              "<style scoped>\n",
              "    .dataframe tbody tr th:only-of-type {\n",
              "        vertical-align: middle;\n",
              "    }\n",
              "\n",
              "    .dataframe tbody tr th {\n",
              "        vertical-align: top;\n",
              "    }\n",
              "\n",
              "    .dataframe thead th {\n",
              "        text-align: right;\n",
              "    }\n",
              "</style>\n",
              "<table border=\"1\" class=\"dataframe\">\n",
              "  <thead>\n",
              "    <tr style=\"text-align: right;\">\n",
              "      <th></th>\n",
              "      <th>date</th>\n",
              "      <th>symbol</th>\n",
              "      <th>open</th>\n",
              "      <th>close</th>\n",
              "      <th>low</th>\n",
              "      <th>high</th>\n",
              "      <th>volume</th>\n",
              "    </tr>\n",
              "  </thead>\n",
              "  <tbody>\n",
              "    <tr>\n",
              "      <th>440</th>\n",
              "      <td>2010-01-04</td>\n",
              "      <td>GOOGL</td>\n",
              "      <td>626.950006</td>\n",
              "      <td>626.750011</td>\n",
              "      <td>624.240011</td>\n",
              "      <td>629.510005</td>\n",
              "      <td>3908400.0</td>\n",
              "    </tr>\n",
              "    <tr>\n",
              "      <th>908</th>\n",
              "      <td>2010-01-05</td>\n",
              "      <td>GOOGL</td>\n",
              "      <td>627.180001</td>\n",
              "      <td>623.990017</td>\n",
              "      <td>621.540016</td>\n",
              "      <td>627.839984</td>\n",
              "      <td>6003300.0</td>\n",
              "    </tr>\n",
              "    <tr>\n",
              "      <th>1376</th>\n",
              "      <td>2010-01-06</td>\n",
              "      <td>GOOGL</td>\n",
              "      <td>625.860033</td>\n",
              "      <td>608.260035</td>\n",
              "      <td>606.360021</td>\n",
              "      <td>625.860033</td>\n",
              "      <td>7949400.0</td>\n",
              "    </tr>\n",
              "    <tr>\n",
              "      <th>1844</th>\n",
              "      <td>2010-01-07</td>\n",
              "      <td>GOOGL</td>\n",
              "      <td>609.400008</td>\n",
              "      <td>594.100015</td>\n",
              "      <td>592.649990</td>\n",
              "      <td>609.999993</td>\n",
              "      <td>12815700.0</td>\n",
              "    </tr>\n",
              "    <tr>\n",
              "      <th>2312</th>\n",
              "      <td>2010-01-08</td>\n",
              "      <td>GOOGL</td>\n",
              "      <td>592.000005</td>\n",
              "      <td>602.020005</td>\n",
              "      <td>589.110015</td>\n",
              "      <td>603.250036</td>\n",
              "      <td>9439100.0</td>\n",
              "    </tr>\n",
              "    <tr>\n",
              "      <th>...</th>\n",
              "      <td>...</td>\n",
              "      <td>...</td>\n",
              "      <td>...</td>\n",
              "      <td>...</td>\n",
              "      <td>...</td>\n",
              "      <td>...</td>\n",
              "      <td>...</td>\n",
              "    </tr>\n",
              "    <tr>\n",
              "      <th>86657</th>\n",
              "      <td>2010-09-27</td>\n",
              "      <td>GOOGL</td>\n",
              "      <td>528.850022</td>\n",
              "      <td>530.409984</td>\n",
              "      <td>528.850022</td>\n",
              "      <td>536.850010</td>\n",
              "      <td>6208500.0</td>\n",
              "    </tr>\n",
              "    <tr>\n",
              "      <th>87126</th>\n",
              "      <td>2010-09-28</td>\n",
              "      <td>GOOGL</td>\n",
              "      <td>533.480031</td>\n",
              "      <td>527.170002</td>\n",
              "      <td>518.450032</td>\n",
              "      <td>533.590028</td>\n",
              "      <td>7302000.0</td>\n",
              "    </tr>\n",
              "    <tr>\n",
              "      <th>87595</th>\n",
              "      <td>2010-09-29</td>\n",
              "      <td>GOOGL</td>\n",
              "      <td>527.849985</td>\n",
              "      <td>527.689989</td>\n",
              "      <td>524.710001</td>\n",
              "      <td>532.939983</td>\n",
              "      <td>4340000.0</td>\n",
              "    </tr>\n",
              "    <tr>\n",
              "      <th>88064</th>\n",
              "      <td>2010-09-30</td>\n",
              "      <td>GOOGL</td>\n",
              "      <td>529.160014</td>\n",
              "      <td>525.790036</td>\n",
              "      <td>518.920020</td>\n",
              "      <td>531.870009</td>\n",
              "      <td>6481700.0</td>\n",
              "    </tr>\n",
              "    <tr>\n",
              "      <th>88533</th>\n",
              "      <td>2010-10-01</td>\n",
              "      <td>GOOGL</td>\n",
              "      <td>529.999994</td>\n",
              "      <td>525.619979</td>\n",
              "      <td>522.999982</td>\n",
              "      <td>530.619979</td>\n",
              "      <td>4445500.0</td>\n",
              "    </tr>\n",
              "  </tbody>\n",
              "</table>\n",
              "<p>189 rows × 7 columns</p>\n",
              "</div>"
            ],
            "text/plain": [
              "             date symbol        open  ...         low        high      volume\n",
              "440    2010-01-04  GOOGL  626.950006  ...  624.240011  629.510005   3908400.0\n",
              "908    2010-01-05  GOOGL  627.180001  ...  621.540016  627.839984   6003300.0\n",
              "1376   2010-01-06  GOOGL  625.860033  ...  606.360021  625.860033   7949400.0\n",
              "1844   2010-01-07  GOOGL  609.400008  ...  592.649990  609.999993  12815700.0\n",
              "2312   2010-01-08  GOOGL  592.000005  ...  589.110015  603.250036   9439100.0\n",
              "...           ...    ...         ...  ...         ...         ...         ...\n",
              "86657  2010-09-27  GOOGL  528.850022  ...  528.850022  536.850010   6208500.0\n",
              "87126  2010-09-28  GOOGL  533.480031  ...  518.450032  533.590028   7302000.0\n",
              "87595  2010-09-29  GOOGL  527.849985  ...  524.710001  532.939983   4340000.0\n",
              "88064  2010-09-30  GOOGL  529.160014  ...  518.920020  531.870009   6481700.0\n",
              "88533  2010-10-01  GOOGL  529.999994  ...  522.999982  530.619979   4445500.0\n",
              "\n",
              "[189 rows x 7 columns]"
            ]
          },
          "metadata": {
            "tags": []
          },
          "execution_count": 19
        }
      ]
    },
    {
      "cell_type": "code",
      "metadata": {
        "colab": {
          "base_uri": "https://localhost:8080/",
          "height": 294
        },
        "id": "govij01m82BT",
        "outputId": "29a2d25b-57b1-4328-e7be-6e2dfc60fbdd"
      },
      "source": [
        "df1.describe()"
      ],
      "execution_count": 20,
      "outputs": [
        {
          "output_type": "execute_result",
          "data": {
            "text/html": [
              "<div>\n",
              "<style scoped>\n",
              "    .dataframe tbody tr th:only-of-type {\n",
              "        vertical-align: middle;\n",
              "    }\n",
              "\n",
              "    .dataframe tbody tr th {\n",
              "        vertical-align: top;\n",
              "    }\n",
              "\n",
              "    .dataframe thead th {\n",
              "        text-align: right;\n",
              "    }\n",
              "</style>\n",
              "<table border=\"1\" class=\"dataframe\">\n",
              "  <thead>\n",
              "    <tr style=\"text-align: right;\">\n",
              "      <th></th>\n",
              "      <th>open</th>\n",
              "      <th>close</th>\n",
              "      <th>low</th>\n",
              "      <th>high</th>\n",
              "      <th>volume</th>\n",
              "    </tr>\n",
              "  </thead>\n",
              "  <tbody>\n",
              "    <tr>\n",
              "      <th>count</th>\n",
              "      <td>189.000000</td>\n",
              "      <td>189.000000</td>\n",
              "      <td>189.000000</td>\n",
              "      <td>189.000000</td>\n",
              "      <td>1.890000e+02</td>\n",
              "    </tr>\n",
              "    <tr>\n",
              "      <th>mean</th>\n",
              "      <td>517.868102</td>\n",
              "      <td>517.203498</td>\n",
              "      <td>512.029371</td>\n",
              "      <td>522.809212</td>\n",
              "      <td>6.591085e+06</td>\n",
              "    </tr>\n",
              "    <tr>\n",
              "      <th>std</th>\n",
              "      <td>42.418197</td>\n",
              "      <td>42.335340</td>\n",
              "      <td>42.244959</td>\n",
              "      <td>42.250641</td>\n",
              "      <td>2.930945e+06</td>\n",
              "    </tr>\n",
              "    <tr>\n",
              "      <th>min</th>\n",
              "      <td>438.310006</td>\n",
              "      <td>436.069999</td>\n",
              "      <td>433.629998</td>\n",
              "      <td>442.280000</td>\n",
              "      <td>2.460300e+06</td>\n",
              "    </tr>\n",
              "    <tr>\n",
              "      <th>25%</th>\n",
              "      <td>483.679996</td>\n",
              "      <td>484.780000</td>\n",
              "      <td>480.009994</td>\n",
              "      <td>489.760000</td>\n",
              "      <td>4.524200e+06</td>\n",
              "    </tr>\n",
              "    <tr>\n",
              "      <th>50%</th>\n",
              "      <td>512.859985</td>\n",
              "      <td>509.760000</td>\n",
              "      <td>508.220007</td>\n",
              "      <td>519.690002</td>\n",
              "      <td>5.992200e+06</td>\n",
              "    </tr>\n",
              "    <tr>\n",
              "      <th>75%</th>\n",
              "      <td>547.349997</td>\n",
              "      <td>549.000018</td>\n",
              "      <td>542.000006</td>\n",
              "      <td>553.990018</td>\n",
              "      <td>7.842100e+06</td>\n",
              "    </tr>\n",
              "    <tr>\n",
              "      <th>max</th>\n",
              "      <td>627.180001</td>\n",
              "      <td>626.750011</td>\n",
              "      <td>624.240011</td>\n",
              "      <td>629.510005</td>\n",
              "      <td>2.444650e+07</td>\n",
              "    </tr>\n",
              "  </tbody>\n",
              "</table>\n",
              "</div>"
            ],
            "text/plain": [
              "             open       close         low        high        volume\n",
              "count  189.000000  189.000000  189.000000  189.000000  1.890000e+02\n",
              "mean   517.868102  517.203498  512.029371  522.809212  6.591085e+06\n",
              "std     42.418197   42.335340   42.244959   42.250641  2.930945e+06\n",
              "min    438.310006  436.069999  433.629998  442.280000  2.460300e+06\n",
              "25%    483.679996  484.780000  480.009994  489.760000  4.524200e+06\n",
              "50%    512.859985  509.760000  508.220007  519.690002  5.992200e+06\n",
              "75%    547.349997  549.000018  542.000006  553.990018  7.842100e+06\n",
              "max    627.180001  626.750011  624.240011  629.510005  2.444650e+07"
            ]
          },
          "metadata": {
            "tags": []
          },
          "execution_count": 20
        }
      ]
    },
    {
      "cell_type": "code",
      "metadata": {
        "colab": {
          "base_uri": "https://localhost:8080/",
          "height": 114
        },
        "id": "0d9ZG2pl85_C",
        "outputId": "2b4afaaf-bb57-4a5a-c9df-282cea82fb95"
      },
      "source": [
        "print(\"Highest Stock Price : \\n\")\n",
        "\n",
        "df1[['date','symbol','high']][df1['high']==df1['high'].max()]"
      ],
      "execution_count": 21,
      "outputs": [
        {
          "output_type": "stream",
          "text": [
            "Highest Stock Price : \n",
            "\n"
          ],
          "name": "stdout"
        },
        {
          "output_type": "execute_result",
          "data": {
            "text/html": [
              "<div>\n",
              "<style scoped>\n",
              "    .dataframe tbody tr th:only-of-type {\n",
              "        vertical-align: middle;\n",
              "    }\n",
              "\n",
              "    .dataframe tbody tr th {\n",
              "        vertical-align: top;\n",
              "    }\n",
              "\n",
              "    .dataframe thead th {\n",
              "        text-align: right;\n",
              "    }\n",
              "</style>\n",
              "<table border=\"1\" class=\"dataframe\">\n",
              "  <thead>\n",
              "    <tr style=\"text-align: right;\">\n",
              "      <th></th>\n",
              "      <th>date</th>\n",
              "      <th>symbol</th>\n",
              "      <th>high</th>\n",
              "    </tr>\n",
              "  </thead>\n",
              "  <tbody>\n",
              "    <tr>\n",
              "      <th>440</th>\n",
              "      <td>2010-01-04</td>\n",
              "      <td>GOOGL</td>\n",
              "      <td>629.510005</td>\n",
              "    </tr>\n",
              "  </tbody>\n",
              "</table>\n",
              "</div>"
            ],
            "text/plain": [
              "           date symbol        high\n",
              "440  2010-01-04  GOOGL  629.510005"
            ]
          },
          "metadata": {
            "tags": []
          },
          "execution_count": 21
        }
      ]
    },
    {
      "cell_type": "code",
      "metadata": {
        "colab": {
          "base_uri": "https://localhost:8080/",
          "height": 114
        },
        "id": "vqsKbZVR8_u1",
        "outputId": "bc0905bb-65ac-4bc9-c23b-a9049e35aa36"
      },
      "source": [
        "print(\"Maximum Stock Volume : \\n\")\n",
        "df1[df1['volume']==df1['volume'].max()]"
      ],
      "execution_count": 22,
      "outputs": [
        {
          "output_type": "stream",
          "text": [
            "Maximum Stock Volume : \n",
            "\n"
          ],
          "name": "stdout"
        },
        {
          "output_type": "execute_result",
          "data": {
            "text/html": [
              "<div>\n",
              "<style scoped>\n",
              "    .dataframe tbody tr th:only-of-type {\n",
              "        vertical-align: middle;\n",
              "    }\n",
              "\n",
              "    .dataframe tbody tr th {\n",
              "        vertical-align: top;\n",
              "    }\n",
              "\n",
              "    .dataframe thead th {\n",
              "        text-align: right;\n",
              "    }\n",
              "</style>\n",
              "<table border=\"1\" class=\"dataframe\">\n",
              "  <thead>\n",
              "    <tr style=\"text-align: right;\">\n",
              "      <th></th>\n",
              "      <th>date</th>\n",
              "      <th>symbol</th>\n",
              "      <th>open</th>\n",
              "      <th>close</th>\n",
              "      <th>low</th>\n",
              "      <th>high</th>\n",
              "      <th>volume</th>\n",
              "    </tr>\n",
              "  </thead>\n",
              "  <tbody>\n",
              "    <tr>\n",
              "      <th>33668</th>\n",
              "      <td>2010-04-16</td>\n",
              "      <td>GOOGL</td>\n",
              "      <td>562.999981</td>\n",
              "      <td>550.14999</td>\n",
              "      <td>549.630003</td>\n",
              "      <td>568.810022</td>\n",
              "      <td>24446500.0</td>\n",
              "    </tr>\n",
              "  </tbody>\n",
              "</table>\n",
              "</div>"
            ],
            "text/plain": [
              "             date symbol        open  ...         low        high      volume\n",
              "33668  2010-04-16  GOOGL  562.999981  ...  549.630003  568.810022  24446500.0\n",
              "\n",
              "[1 rows x 7 columns]"
            ]
          },
          "metadata": {
            "tags": []
          },
          "execution_count": 22
        }
      ]
    },
    {
      "cell_type": "code",
      "metadata": {
        "colab": {
          "base_uri": "https://localhost:8080/"
        },
        "id": "i6ivh2LT9Bl1",
        "outputId": "37bf15ac-a92b-4784-fc45-0d879c111769"
      },
      "source": [
        "np.round(df1.median(),2)\n"
      ],
      "execution_count": 23,
      "outputs": [
        {
          "output_type": "execute_result",
          "data": {
            "text/plain": [
              "open          512.86\n",
              "close         509.76\n",
              "low           508.22\n",
              "high          519.69\n",
              "volume    5992200.00\n",
              "dtype: float64"
            ]
          },
          "metadata": {
            "tags": []
          },
          "execution_count": 23
        }
      ]
    },
    {
      "cell_type": "code",
      "metadata": {
        "colab": {
          "base_uri": "https://localhost:8080/"
        },
        "id": "x2N2C_kD9FjV",
        "outputId": "f76537ff-c797-4a8c-89af-d2277512af63"
      },
      "source": [
        "df1['date']=pd.to_datetime(df1['date'])"
      ],
      "execution_count": 24,
      "outputs": [
        {
          "output_type": "stream",
          "text": [
            "/usr/local/lib/python3.7/dist-packages/ipykernel_launcher.py:1: SettingWithCopyWarning: \n",
            "A value is trying to be set on a copy of a slice from a DataFrame.\n",
            "Try using .loc[row_indexer,col_indexer] = value instead\n",
            "\n",
            "See the caveats in the documentation: https://pandas.pydata.org/pandas-docs/stable/user_guide/indexing.html#returning-a-view-versus-a-copy\n",
            "  \"\"\"Entry point for launching an IPython kernel.\n"
          ],
          "name": "stderr"
        }
      ]
    },
    {
      "cell_type": "code",
      "metadata": {
        "colab": {
          "base_uri": "https://localhost:8080/"
        },
        "id": "erHM-ck19KTX",
        "outputId": "e57d8c98-f97b-4d1b-fd3e-1b284e9a3b67"
      },
      "source": [
        "print(\"Starting date : {}\".format(df1['date'].min()))\n",
        "print(\"Ending   date : {}\".format(df1['date'].max()))"
      ],
      "execution_count": 25,
      "outputs": [
        {
          "output_type": "stream",
          "text": [
            "Starting date : 2010-01-04 00:00:00\n",
            "Ending   date : 2010-10-01 00:00:00\n"
          ],
          "name": "stdout"
        }
      ]
    },
    {
      "cell_type": "code",
      "metadata": {
        "id": "EayySvqq9eoO"
      },
      "source": [
        "import os\n",
        "import warnings; warnings.simplefilter('ignore')\n",
        "import plotly.graph_objs as go\n",
        "import plotly.offline as py\n",
        "import matplotlib.pyplot as plt\n",
        "import matplotlib.dates as mdates\n",
        "import seaborn as sns"
      ],
      "execution_count": 27,
      "outputs": []
    },
    {
      "cell_type": "code",
      "metadata": {
        "colab": {
          "base_uri": "https://localhost:8080/",
          "height": 542
        },
        "id": "tfpFoeT89P8v",
        "outputId": "ba66b312-b6a3-4626-fdf4-e8f2d8891443"
      },
      "source": [
        "data = []\n",
        "for asset in ['AMZN','AAPL','GOOGL']:\n",
        "    asset_df = df[(df['symbol'] == asset)]\n",
        "\n",
        "    data.append(go.Scatter(x = asset_df['date'].values, y = asset_df['close'].values,name = asset ))\n",
        "layout = go.Layout(dict(title = \"Closing prices of 3 assets - AMAZON, APPLE, GOOGLE\",\n",
        "                  xaxis = dict(title = 'Year'),\n",
        "                  yaxis = dict(title = 'Price (USD)'),\n",
        "                  ),legend=dict(\n",
        "                orientation=\"h\"))\n",
        "py.iplot(dict(data=data, layout=layout), filename='basic-line')"
      ],
      "execution_count": 87,
      "outputs": [
        {
          "output_type": "display_data",
          "data": {
            "text/html": [
              "<html>\n",
              "<head><meta charset=\"utf-8\" /></head>\n",
              "<body>\n",
              "    <div>\n",
              "            <script src=\"https://cdnjs.cloudflare.com/ajax/libs/mathjax/2.7.5/MathJax.js?config=TeX-AMS-MML_SVG\"></script><script type=\"text/javascript\">if (window.MathJax) {MathJax.Hub.Config({SVG: {font: \"STIX-Web\"}});}</script>\n",
              "                <script type=\"text/javascript\">window.PlotlyConfig = {MathJaxConfig: 'local'};</script>\n",
              "        <script src=\"https://cdn.plot.ly/plotly-latest.min.js\"></script>    \n",
              "            <div id=\"3d82ba66-60bf-4f62-9c7c-c0d738a480ab\" class=\"plotly-graph-div\" style=\"height:525px; width:100%;\"></div>\n",
              "            <script type=\"text/javascript\">\n",
              "                \n",
              "                    window.PLOTLYENV=window.PLOTLYENV || {};\n",
              "                    \n",
              "                if (document.getElementById(\"3d82ba66-60bf-4f62-9c7c-c0d738a480ab\")) {\n",
              "                    Plotly.newPlot(\n",
              "                        '3d82ba66-60bf-4f62-9c7c-c0d738a480ab',\n",
              "                        [{\"name\": \"AMZN\", \"type\": \"scatter\", \"x\": [\"2010-01-04\", \"2010-01-05\", \"2010-01-06\", \"2010-01-07\", \"2010-01-08\", \"2010-01-11\", \"2010-01-12\", \"2010-01-13\", \"2010-01-14\", \"2010-01-15\", \"2010-01-19\", \"2010-01-20\", \"2010-01-21\", \"2010-01-22\", \"2010-01-25\", \"2010-01-26\", \"2010-01-27\", \"2010-01-28\", \"2010-01-29\", \"2010-02-01\", \"2010-02-02\", \"2010-02-03\", \"2010-02-04\", \"2010-02-05\", \"2010-02-08\", \"2010-02-09\", \"2010-02-10\", \"2010-02-11\", \"2010-02-12\", \"2010-02-16\", \"2010-02-17\", \"2010-02-18\", \"2010-02-19\", \"2010-02-22\", \"2010-02-23\", \"2010-02-24\", \"2010-02-25\", \"2010-02-26\", \"2010-03-01\", \"2010-03-02\", \"2010-03-03\", \"2010-03-04\", \"2010-03-05\", \"2010-03-08\", \"2010-03-09\", \"2010-03-10\", \"2010-03-11\", \"2010-03-12\", \"2010-03-15\", \"2010-03-16\", \"2010-03-17\", \"2010-03-18\", \"2010-03-19\", \"2010-03-22\", \"2010-03-23\", \"2010-03-24\", \"2010-03-25\", \"2010-03-26\", \"2010-03-29\", \"2010-03-30\", \"2010-03-31\", \"2010-04-01\", \"2010-04-05\", \"2010-04-06\", \"2010-04-07\", \"2010-04-08\", \"2010-04-09\", \"2010-04-12\", \"2010-04-13\", \"2010-04-14\", \"2010-04-15\", \"2010-04-16\", \"2010-04-19\", \"2010-04-20\", \"2010-04-21\", \"2010-04-22\", \"2010-04-23\", \"2010-04-26\", \"2010-04-27\", \"2010-04-28\", \"2010-04-29\", \"2010-04-30\", \"2010-05-03\", \"2010-05-04\", \"2010-05-05\", \"2010-05-06\", \"2010-05-07\", \"2010-05-10\", \"2010-05-11\", \"2010-05-12\", \"2010-05-13\", \"2010-05-14\", \"2010-05-17\", \"2010-05-18\", \"2010-05-19\", \"2010-05-20\", \"2010-05-21\", \"2010-05-24\", \"2010-05-25\", \"2010-05-26\", \"2010-05-27\", \"2010-05-28\", \"2010-06-01\", \"2010-06-02\", \"2010-06-03\", \"2010-06-04\", \"2010-06-07\", \"2010-06-08\", \"2010-06-09\", \"2010-06-10\", \"2010-06-11\", \"2010-06-14\", \"2010-06-15\", \"2010-06-16\", \"2010-06-17\", \"2010-06-18\", \"2010-06-21\", \"2010-06-22\", \"2010-06-23\", \"2010-06-24\", \"2010-06-25\", \"2010-06-28\", \"2010-06-29\", \"2010-06-30\", \"2010-07-01\", \"2010-07-02\", \"2010-07-06\", \"2010-07-07\", \"2010-07-08\", \"2010-07-09\", \"2010-07-12\", \"2010-07-13\", \"2010-07-14\", \"2010-07-15\", \"2010-07-16\", \"2010-07-19\", \"2010-07-20\", \"2010-07-21\", \"2010-07-22\", \"2010-07-23\", \"2010-07-26\", \"2010-07-27\", \"2010-07-28\", \"2010-07-29\", \"2010-07-30\", \"2010-08-02\", \"2010-08-03\", \"2010-08-04\", \"2010-08-05\", \"2010-08-06\", \"2010-08-09\", \"2010-08-10\", \"2010-08-11\", \"2010-08-12\", \"2010-08-13\", \"2010-08-16\", \"2010-08-17\", \"2010-08-18\", \"2010-08-19\", \"2010-08-20\", \"2010-08-23\", \"2010-08-24\", \"2010-08-25\", \"2010-08-26\", \"2010-08-27\", \"2010-08-30\", \"2010-08-31\", \"2010-09-01\", \"2010-09-02\", \"2010-09-03\", \"2010-09-07\", \"2010-09-08\", \"2010-09-09\", \"2010-09-10\", \"2010-09-13\", \"2010-09-14\", \"2010-09-15\", \"2010-09-16\", \"2010-09-17\", \"2010-09-20\", \"2010-09-21\", \"2010-09-22\", \"2010-09-23\", \"2010-09-24\", \"2010-09-27\", \"2010-09-28\", \"2010-09-29\", \"2010-09-30\", \"2010-10-01\", \"2010-10-04\"], \"y\": [133.899994, 134.690002, 132.25, 130.0, 133.520004, 130.309998, 127.349998, 129.110001, 127.349998, 127.139999, 127.610001, 125.779999, 126.620003, 121.43, 120.309998, 119.480003, 122.75, 126.029999, 125.410004, 118.870003, 118.120003, 119.099998, 115.940002, 117.389999, 116.83000200000001, 118.029999, 117.360001, 120.089996, 119.660004, 117.529999, 116.309998, 118.08000200000001, 117.519997, 118.010002, 117.239998, 119.720001, 118.199997, 118.400002, 124.540001, 125.529999, 125.889999, 128.529999, 128.91000400000001, 130.110001, 128.820007, 130.509995, 133.580002, 131.820007, 131.130005, 131.78999299999998, 131.33999599999999, 132.759995, 130.350006, 130.470001, 129.259995, 128.03999299999998, 134.729996, 135.059998, 135.119995, 136.580002, 135.770004, 131.809998, 131.490005, 135.559998, 134.869995, 140.96000700000002, 140.059998, 141.199997, 140.16000400000001, 144.279999, 145.820007, 142.169998, 142.429993, 144.199997, 146.429993, 150.08999599999999, 143.630005, 147.110001, 142.020004, 139.350006, 141.729996, 137.100006, 137.490005, 129.830002, 130.929993, 128.71000700000002, 124.980003, 131.28999299999998, 130.46000700000002, 133.869995, 131.470001, 128.529999, 128.91000400000001, 126.279999, 124.589996, 119.709999, 122.720001, 122.120003, 124.860001, 123.209999, 126.699997, 125.459999, 123.239998, 126.309998, 128.759995, 122.769997, 122.010002, 118.839996, 117.910004, 123.209999, 123.029999, 123.83000200000001, 126.839996, 126.900002, 125.889999, 125.83000200000001, 122.550003, 122.309998, 121.449997, 118.33000200000001, 121.0, 117.800003, 108.610001, 109.260002, 110.959999, 109.139999, 110.059998, 113.43, 116.220001, 117.260002, 119.510002, 123.650002, 123.300003, 122.059998, 118.489998, 119.940002, 120.099998, 117.43, 120.07, 118.870003, 118.400002, 117.129997, 117.129997, 116.860001, 117.889999, 120.07, 122.41999799999999, 127.58000200000001, 127.83000200000001, 128.320007, 128.830002, 130.0, 125.889999, 126.559998, 124.690002, 126.07, 128.860001, 129.649994, 127.57, 127.760002, 126.599998, 124.529999, 126.849998, 124.860001, 126.639999, 123.790001, 124.83000200000001, 132.490005, 135.21000700000002, 138.78999299999998, 137.220001, 139.139999, 140.380005, 142.440002, 145.070007, 145.75, 145.449997, 148.130005, 148.320007, 151.300003, 150.729996, 151.830002, 152.850006, 160.729996, 159.369995, 159.699997, 158.990005, 157.059998, 153.71000700000002, 155.389999]}, {\"name\": \"AAPL\", \"type\": \"scatter\", \"x\": [\"2010-01-04\", \"2010-01-05\", \"2010-01-06\", \"2010-01-07\", \"2010-01-08\", \"2010-01-11\", \"2010-01-12\", \"2010-01-13\", \"2010-01-14\", \"2010-01-15\", \"2010-01-19\", \"2010-01-20\", \"2010-01-21\", \"2010-01-22\", \"2010-01-25\", \"2010-01-26\", \"2010-01-27\", \"2010-01-28\", \"2010-01-29\", \"2010-02-01\", \"2010-02-02\", \"2010-02-03\", \"2010-02-04\", \"2010-02-05\", \"2010-02-08\", \"2010-02-09\", \"2010-02-10\", \"2010-02-11\", \"2010-02-12\", \"2010-02-16\", \"2010-02-17\", \"2010-02-18\", \"2010-02-19\", \"2010-02-22\", \"2010-02-23\", \"2010-02-24\", \"2010-02-25\", \"2010-02-26\", \"2010-03-01\", \"2010-03-02\", \"2010-03-03\", \"2010-03-04\", \"2010-03-05\", \"2010-03-08\", \"2010-03-09\", \"2010-03-10\", \"2010-03-11\", \"2010-03-12\", \"2010-03-15\", \"2010-03-16\", \"2010-03-17\", \"2010-03-18\", \"2010-03-19\", \"2010-03-22\", \"2010-03-23\", \"2010-03-24\", \"2010-03-25\", \"2010-03-26\", \"2010-03-29\", \"2010-03-30\", \"2010-03-31\", \"2010-04-01\", \"2010-04-05\", \"2010-04-06\", \"2010-04-07\", \"2010-04-08\", \"2010-04-09\", \"2010-04-12\", \"2010-04-13\", \"2010-04-14\", \"2010-04-15\", \"2010-04-16\", \"2010-04-19\", \"2010-04-20\", \"2010-04-21\", \"2010-04-22\", \"2010-04-23\", \"2010-04-26\", \"2010-04-27\", \"2010-04-28\", \"2010-04-29\", \"2010-04-30\", \"2010-05-03\", \"2010-05-04\", \"2010-05-05\", \"2010-05-06\", \"2010-05-07\", \"2010-05-10\", \"2010-05-11\", \"2010-05-12\", \"2010-05-13\", \"2010-05-14\", \"2010-05-17\", \"2010-05-18\", \"2010-05-19\", \"2010-05-20\", \"2010-05-21\", \"2010-05-24\", \"2010-05-25\", \"2010-05-26\", \"2010-05-27\", \"2010-05-28\", \"2010-06-01\", \"2010-06-02\", \"2010-06-03\", \"2010-06-04\", \"2010-06-07\", \"2010-06-08\", \"2010-06-09\", \"2010-06-10\", \"2010-06-11\", \"2010-06-14\", \"2010-06-15\", \"2010-06-16\", \"2010-06-17\", \"2010-06-18\", \"2010-06-21\", \"2010-06-22\", \"2010-06-23\", \"2010-06-24\", \"2010-06-25\", \"2010-06-28\", \"2010-06-29\", \"2010-06-30\", \"2010-07-01\", \"2010-07-02\", \"2010-07-06\", \"2010-07-07\", \"2010-07-08\", \"2010-07-09\", \"2010-07-12\", \"2010-07-13\", \"2010-07-14\", \"2010-07-15\", \"2010-07-16\", \"2010-07-19\", \"2010-07-20\", \"2010-07-21\", \"2010-07-22\", \"2010-07-23\", \"2010-07-26\", \"2010-07-27\", \"2010-07-28\", \"2010-07-29\", \"2010-07-30\", \"2010-08-02\", \"2010-08-03\", \"2010-08-04\", \"2010-08-05\", \"2010-08-06\", \"2010-08-09\", \"2010-08-10\", \"2010-08-11\", \"2010-08-12\", \"2010-08-13\", \"2010-08-16\", \"2010-08-17\", \"2010-08-18\", \"2010-08-19\", \"2010-08-20\", \"2010-08-23\", \"2010-08-24\", \"2010-08-25\", \"2010-08-26\", \"2010-08-27\", \"2010-08-30\", \"2010-08-31\", \"2010-09-01\", \"2010-09-02\", \"2010-09-03\", \"2010-09-07\", \"2010-09-08\", \"2010-09-09\", \"2010-09-10\", \"2010-09-13\", \"2010-09-14\", \"2010-09-15\", \"2010-09-16\", \"2010-09-17\", \"2010-09-20\", \"2010-09-21\", \"2010-09-22\", \"2010-09-23\", \"2010-09-24\", \"2010-09-27\", \"2010-09-28\", \"2010-09-29\", \"2010-09-30\", \"2010-10-01\", \"2010-10-04\"], \"y\": [214.009998, 214.379993, 210.969995, 210.58, 211.98000499999998, 210.11000299999998, 207.720001, 210.650002, 209.43, 205.93, 215.039995, 211.73, 208.069996, 197.75, 203.070002, 205.940001, 207.880005, 199.289995, 192.060003, 194.729998, 195.859997, 199.229994, 192.050003, 195.460001, 194.11999699999998, 196.19000400000002, 195.12000700000002, 198.669994, 200.37999299999998, 203.399996, 202.550003, 202.929998, 201.669996, 200.419994, 197.059998, 200.66, 202.000004, 204.61999699999998, 208.990004, 208.85, 209.329998, 210.71000299999997, 218.95000499999998, 219.079994, 223.020004, 224.83999300000002, 225.500008, 226.600006, 223.83999599999999, 224.44999700000002, 224.12000299999997, 224.650002, 222.25, 224.750004, 228.359993, 229.37000299999997, 226.649994, 230.899998, 232.389992, 235.84999100000002, 235.000011, 235.96999399999999, 238.48999799999999, 239.540009, 240.600006, 239.95000499999998, 241.789993, 242.29000499999998, 242.43000800000002, 245.690002, 248.92001000000002, 247.400002, 247.07000699999998, 244.590004, 259.22000499999996, 266.46999700000003, 270.82999, 269.5, 262.039989, 261.600006, 268.64000699999997, 261.090008, 266.34999500000004, 258.679993, 255.98999799999999, 246.249989, 235.860004, 253.99000499999997, 256.51999700000005, 262.090004, 258.360012, 253.819988, 254.219997, 252.360008, 248.33999599999999, 237.75999500000003, 242.31999199999998, 246.75998700000002, 245.220005, 244.109993, 253.34999100000002, 256.880005, 260.830002, 263.949993, 263.11998700000004, 255.96001099999998, 250.940002, 249.330006, 243.20001200000002, 250.510006, 253.50999500000003, 254.27999900000003, 259.690002, 267.249989, 271.86998700000004, 274.07001099999997, 270.170002, 273.850006, 270.969994, 268.999989, 266.699989, 268.299999, 256.170002, 251.530003, 248.48, 246.93999100000002, 248.62999, 258.670006, 258.089993, 259.61998700000004, 257.29000099999996, 251.79999500000002, 252.73000299999998, 251.450001, 249.900005, 245.58001299999998, 251.890011, 254.23999799999999, 259.02, 259.939995, 259.280006, 264.08000899999996, 260.959991, 258.10999300000003, 257.25, 261.84999799999997, 261.93, 262.980011, 261.700008, 260.090012, 261.749996, 259.409996, 250.18999900000003, 251.790009, 249.099987, 247.640007, 251.970013, 253.070011, 249.88000499999998, 249.63999900000002, 245.799992, 239.930004, 242.889992, 240.27999900000003, 241.62000299999997, 242.499996, 243.10001, 250.330002, 252.169991, 258.770008, 257.81001299999997, 262.92001, 263.07, 263.410007, 267.039997, 268.059994, 270.21999, 276.56998799999997, 275.36998700000004, 283.230007, 283.769993, 287.750004, 288.91999100000004, 292.31998799999997, 291.159988, 286.859997, 287.369995, 283.749992, 282.52000400000003, 278.639996]}, {\"name\": \"GOOGL\", \"type\": \"scatter\", \"x\": [\"2010-01-04\", \"2010-01-05\", \"2010-01-06\", \"2010-01-07\", \"2010-01-08\", \"2010-01-11\", \"2010-01-12\", \"2010-01-13\", \"2010-01-14\", \"2010-01-15\", \"2010-01-19\", \"2010-01-20\", \"2010-01-21\", \"2010-01-22\", \"2010-01-25\", \"2010-01-26\", \"2010-01-27\", \"2010-01-28\", \"2010-01-29\", \"2010-02-01\", \"2010-02-02\", \"2010-02-03\", \"2010-02-04\", \"2010-02-05\", \"2010-02-08\", \"2010-02-09\", \"2010-02-10\", \"2010-02-11\", \"2010-02-12\", \"2010-02-16\", \"2010-02-17\", \"2010-02-18\", \"2010-02-19\", \"2010-02-22\", \"2010-02-23\", \"2010-02-24\", \"2010-02-25\", \"2010-02-26\", \"2010-03-01\", \"2010-03-02\", \"2010-03-03\", \"2010-03-04\", \"2010-03-05\", \"2010-03-08\", \"2010-03-09\", \"2010-03-10\", \"2010-03-11\", \"2010-03-12\", \"2010-03-15\", \"2010-03-16\", \"2010-03-17\", \"2010-03-18\", \"2010-03-19\", \"2010-03-22\", \"2010-03-23\", \"2010-03-24\", \"2010-03-25\", \"2010-03-26\", \"2010-03-29\", \"2010-03-30\", \"2010-03-31\", \"2010-04-01\", \"2010-04-05\", \"2010-04-06\", \"2010-04-07\", \"2010-04-08\", \"2010-04-09\", \"2010-04-12\", \"2010-04-13\", \"2010-04-14\", \"2010-04-15\", \"2010-04-16\", \"2010-04-19\", \"2010-04-20\", \"2010-04-21\", \"2010-04-22\", \"2010-04-23\", \"2010-04-26\", \"2010-04-27\", \"2010-04-28\", \"2010-04-29\", \"2010-04-30\", \"2010-05-03\", \"2010-05-04\", \"2010-05-05\", \"2010-05-06\", \"2010-05-07\", \"2010-05-10\", \"2010-05-11\", \"2010-05-12\", \"2010-05-13\", \"2010-05-14\", \"2010-05-17\", \"2010-05-18\", \"2010-05-19\", \"2010-05-20\", \"2010-05-21\", \"2010-05-24\", \"2010-05-25\", \"2010-05-26\", \"2010-05-27\", \"2010-05-28\", \"2010-06-01\", \"2010-06-02\", \"2010-06-03\", \"2010-06-04\", \"2010-06-07\", \"2010-06-08\", \"2010-06-09\", \"2010-06-10\", \"2010-06-11\", \"2010-06-14\", \"2010-06-15\", \"2010-06-16\", \"2010-06-17\", \"2010-06-18\", \"2010-06-21\", \"2010-06-22\", \"2010-06-23\", \"2010-06-24\", \"2010-06-25\", \"2010-06-28\", \"2010-06-29\", \"2010-06-30\", \"2010-07-01\", \"2010-07-02\", \"2010-07-06\", \"2010-07-07\", \"2010-07-08\", \"2010-07-09\", \"2010-07-12\", \"2010-07-13\", \"2010-07-14\", \"2010-07-15\", \"2010-07-16\", \"2010-07-19\", \"2010-07-20\", \"2010-07-21\", \"2010-07-22\", \"2010-07-23\", \"2010-07-26\", \"2010-07-27\", \"2010-07-28\", \"2010-07-29\", \"2010-07-30\", \"2010-08-02\", \"2010-08-03\", \"2010-08-04\", \"2010-08-05\", \"2010-08-06\", \"2010-08-09\", \"2010-08-10\", \"2010-08-11\", \"2010-08-12\", \"2010-08-13\", \"2010-08-16\", \"2010-08-17\", \"2010-08-18\", \"2010-08-19\", \"2010-08-20\", \"2010-08-23\", \"2010-08-24\", \"2010-08-25\", \"2010-08-26\", \"2010-08-27\", \"2010-08-30\", \"2010-08-31\", \"2010-09-01\", \"2010-09-02\", \"2010-09-03\", \"2010-09-07\", \"2010-09-08\", \"2010-09-09\", \"2010-09-10\", \"2010-09-13\", \"2010-09-14\", \"2010-09-15\", \"2010-09-16\", \"2010-09-17\", \"2010-09-20\", \"2010-09-21\", \"2010-09-22\", \"2010-09-23\", \"2010-09-24\", \"2010-09-27\", \"2010-09-28\", \"2010-09-29\", \"2010-09-30\", \"2010-10-01\"], \"y\": [626.7500110000001, 623.990017, 608.260035, 594.100015, 602.020005, 601.110027, 590.479981, 587.090003, 589.849997, 579.999993, 587.61999, 580.409983, 582.9799820000001, 550.009993, 539.999994, 542.419996, 542.100004, 534.290011, 529.9399950000001, 533.0199809999999, 531.120028, 540.820035, 526.7800110000001, 531.290023, 533.470031, 536.44002, 534.450007, 536.400021, 533.1199790000001, 541.300023, 538.209976, 543.220037, 540.760036, 542.799986, 535.069992, 531.4700190000001, 526.43002, 526.800011, 532.689989, 541.060029, 545.3199860000001, 554.590004, 564.210013, 562.479994, 560.189989, 576.450019, 581.140026, 579.540005, 563.179977, 565.199989, 565.55998, 566.40002, 559.999994, 557.499994, 549.000018, 557.329998, 562.879984, 562.689989, 562.4499950000001, 566.710013, 567.120003, 568.800023, 571.01003, 568.220037, 563.540029, 567.489994, 566.220025, 572.7299879999999, 586.7700110000001, 589.000018, 595.299986, 550.14999, 550.099991, 555.039993, 554.300011, 547.060004, 544.989994, 531.6400150000001, 529.060017, 529.190014, 532.000006, 525.699977, 530.599979, 506.37002199999995, 509.76, 498.66999599999997, 493.14000899999996, 521.650015, 509.05001699999997, 505.39001500000006, 510.88000300000004, 507.529993, 507.970013, 498.370004, 494.430008, 475.00999400000006, 472.05000599999994, 477.160003, 477.070005, 475.470014, 490.46001399999994, 485.63000999999997, 482.36999800000007, 493.370004, 505.60000999999994, 498.71999500000004, 485.520012, 484.78, 474.020018, 487.010006, 488.5, 483.19000800000003, 497.990013, 501.26999400000005, 500.079992, 500.02999400000004, 488.559999, 486.249994, 482.050005, 475.099992, 472.680021, 472.08000499999997, 454.260013, 444.949996, 439.49000700000005, 436.55001799999997, 436.069999, 450.20002, 456.56001799999996, 467.489995, 475.83000499999997, 489.20001399999995, 491.339992, 494.020018, 459.610004, 466.179996, 481.590017, 477.499994, 484.809999, 490.05999299999996, 488.97001900000004, 492.629991, 484.35000999999994, 484.989995, 484.849998, 490.41001500000004, 489.82999900000004, 506.319992, 508.10000999999994, 500.22001900000004, 505.35001600000004, 503.709995, 491.740013, 492.010006, 486.349992, 485.59000999999995, 490.520012, 482.150003, 467.970014, 462.02000599999997, 464.070017, 451.389991, 454.620004, 450.98000099999996, 458.82999299999994, 452.690021, 450.01999400000005, 460.330017, 463.180009, 470.30001799999997, 464.400009, 470.580011, 476.179996, 476.139997, 482.27, 480.43001399999997, 480.64000899999996, 481.059999, 490.150021, 508.28000599999996, 513.4600320000001, 516.0000309999999, 513.4800309999999, 527.289999, 530.409984, 527.170002, 527.689989, 525.790036, 525.6199790000001]}],\n",
              "                        {\"legend\": {\"orientation\": \"h\"}, \"template\": {\"data\": {\"bar\": [{\"error_x\": {\"color\": \"#2a3f5f\"}, \"error_y\": {\"color\": \"#2a3f5f\"}, \"marker\": {\"line\": {\"color\": \"#E5ECF6\", \"width\": 0.5}}, \"type\": \"bar\"}], \"barpolar\": [{\"marker\": {\"line\": {\"color\": \"#E5ECF6\", \"width\": 0.5}}, \"type\": \"barpolar\"}], \"carpet\": [{\"aaxis\": {\"endlinecolor\": \"#2a3f5f\", \"gridcolor\": \"white\", \"linecolor\": \"white\", \"minorgridcolor\": \"white\", \"startlinecolor\": \"#2a3f5f\"}, \"baxis\": {\"endlinecolor\": \"#2a3f5f\", \"gridcolor\": \"white\", \"linecolor\": \"white\", \"minorgridcolor\": \"white\", \"startlinecolor\": \"#2a3f5f\"}, \"type\": \"carpet\"}], \"choropleth\": [{\"colorbar\": {\"outlinewidth\": 0, \"ticks\": \"\"}, \"type\": \"choropleth\"}], \"contour\": [{\"colorbar\": {\"outlinewidth\": 0, \"ticks\": \"\"}, \"colorscale\": [[0.0, \"#0d0887\"], [0.1111111111111111, \"#46039f\"], [0.2222222222222222, \"#7201a8\"], [0.3333333333333333, \"#9c179e\"], [0.4444444444444444, \"#bd3786\"], [0.5555555555555556, \"#d8576b\"], [0.6666666666666666, \"#ed7953\"], [0.7777777777777778, \"#fb9f3a\"], [0.8888888888888888, \"#fdca26\"], [1.0, \"#f0f921\"]], \"type\": \"contour\"}], \"contourcarpet\": [{\"colorbar\": {\"outlinewidth\": 0, \"ticks\": \"\"}, \"type\": \"contourcarpet\"}], \"heatmap\": [{\"colorbar\": {\"outlinewidth\": 0, \"ticks\": \"\"}, \"colorscale\": [[0.0, \"#0d0887\"], [0.1111111111111111, \"#46039f\"], [0.2222222222222222, \"#7201a8\"], [0.3333333333333333, \"#9c179e\"], [0.4444444444444444, \"#bd3786\"], [0.5555555555555556, \"#d8576b\"], [0.6666666666666666, \"#ed7953\"], [0.7777777777777778, \"#fb9f3a\"], [0.8888888888888888, \"#fdca26\"], [1.0, \"#f0f921\"]], \"type\": \"heatmap\"}], \"heatmapgl\": [{\"colorbar\": {\"outlinewidth\": 0, \"ticks\": \"\"}, \"colorscale\": [[0.0, \"#0d0887\"], [0.1111111111111111, \"#46039f\"], [0.2222222222222222, \"#7201a8\"], [0.3333333333333333, \"#9c179e\"], [0.4444444444444444, \"#bd3786\"], [0.5555555555555556, \"#d8576b\"], [0.6666666666666666, \"#ed7953\"], [0.7777777777777778, \"#fb9f3a\"], [0.8888888888888888, \"#fdca26\"], [1.0, \"#f0f921\"]], \"type\": \"heatmapgl\"}], \"histogram\": [{\"marker\": {\"colorbar\": {\"outlinewidth\": 0, \"ticks\": \"\"}}, \"type\": \"histogram\"}], \"histogram2d\": [{\"colorbar\": {\"outlinewidth\": 0, \"ticks\": \"\"}, \"colorscale\": [[0.0, \"#0d0887\"], [0.1111111111111111, \"#46039f\"], [0.2222222222222222, \"#7201a8\"], [0.3333333333333333, \"#9c179e\"], [0.4444444444444444, \"#bd3786\"], [0.5555555555555556, \"#d8576b\"], [0.6666666666666666, \"#ed7953\"], [0.7777777777777778, \"#fb9f3a\"], [0.8888888888888888, \"#fdca26\"], [1.0, \"#f0f921\"]], \"type\": \"histogram2d\"}], \"histogram2dcontour\": [{\"colorbar\": {\"outlinewidth\": 0, \"ticks\": \"\"}, \"colorscale\": [[0.0, \"#0d0887\"], [0.1111111111111111, \"#46039f\"], [0.2222222222222222, \"#7201a8\"], [0.3333333333333333, \"#9c179e\"], [0.4444444444444444, \"#bd3786\"], [0.5555555555555556, \"#d8576b\"], [0.6666666666666666, \"#ed7953\"], [0.7777777777777778, \"#fb9f3a\"], [0.8888888888888888, \"#fdca26\"], [1.0, \"#f0f921\"]], \"type\": \"histogram2dcontour\"}], \"mesh3d\": [{\"colorbar\": {\"outlinewidth\": 0, \"ticks\": \"\"}, \"type\": \"mesh3d\"}], \"parcoords\": [{\"line\": {\"colorbar\": {\"outlinewidth\": 0, \"ticks\": \"\"}}, \"type\": \"parcoords\"}], \"pie\": [{\"automargin\": true, \"type\": \"pie\"}], \"scatter\": [{\"marker\": {\"colorbar\": {\"outlinewidth\": 0, \"ticks\": \"\"}}, \"type\": \"scatter\"}], \"scatter3d\": [{\"line\": {\"colorbar\": {\"outlinewidth\": 0, \"ticks\": \"\"}}, \"marker\": {\"colorbar\": {\"outlinewidth\": 0, \"ticks\": \"\"}}, \"type\": \"scatter3d\"}], \"scattercarpet\": [{\"marker\": {\"colorbar\": {\"outlinewidth\": 0, \"ticks\": \"\"}}, \"type\": \"scattercarpet\"}], \"scattergeo\": [{\"marker\": {\"colorbar\": {\"outlinewidth\": 0, \"ticks\": \"\"}}, \"type\": \"scattergeo\"}], \"scattergl\": [{\"marker\": {\"colorbar\": {\"outlinewidth\": 0, \"ticks\": \"\"}}, \"type\": \"scattergl\"}], \"scattermapbox\": [{\"marker\": {\"colorbar\": {\"outlinewidth\": 0, \"ticks\": \"\"}}, \"type\": \"scattermapbox\"}], \"scatterpolar\": [{\"marker\": {\"colorbar\": {\"outlinewidth\": 0, \"ticks\": \"\"}}, \"type\": \"scatterpolar\"}], \"scatterpolargl\": [{\"marker\": {\"colorbar\": {\"outlinewidth\": 0, \"ticks\": \"\"}}, \"type\": \"scatterpolargl\"}], \"scatterternary\": [{\"marker\": {\"colorbar\": {\"outlinewidth\": 0, \"ticks\": \"\"}}, \"type\": \"scatterternary\"}], \"surface\": [{\"colorbar\": {\"outlinewidth\": 0, \"ticks\": \"\"}, \"colorscale\": [[0.0, \"#0d0887\"], [0.1111111111111111, \"#46039f\"], [0.2222222222222222, \"#7201a8\"], [0.3333333333333333, \"#9c179e\"], [0.4444444444444444, \"#bd3786\"], [0.5555555555555556, \"#d8576b\"], [0.6666666666666666, \"#ed7953\"], [0.7777777777777778, \"#fb9f3a\"], [0.8888888888888888, \"#fdca26\"], [1.0, \"#f0f921\"]], \"type\": \"surface\"}], \"table\": [{\"cells\": {\"fill\": {\"color\": \"#EBF0F8\"}, \"line\": {\"color\": \"white\"}}, \"header\": {\"fill\": {\"color\": \"#C8D4E3\"}, \"line\": {\"color\": \"white\"}}, \"type\": \"table\"}]}, \"layout\": {\"annotationdefaults\": {\"arrowcolor\": \"#2a3f5f\", \"arrowhead\": 0, \"arrowwidth\": 1}, \"coloraxis\": {\"colorbar\": {\"outlinewidth\": 0, \"ticks\": \"\"}}, \"colorscale\": {\"diverging\": [[0, \"#8e0152\"], [0.1, \"#c51b7d\"], [0.2, \"#de77ae\"], [0.3, \"#f1b6da\"], [0.4, \"#fde0ef\"], [0.5, \"#f7f7f7\"], [0.6, \"#e6f5d0\"], [0.7, \"#b8e186\"], [0.8, \"#7fbc41\"], [0.9, \"#4d9221\"], [1, \"#276419\"]], \"sequential\": [[0.0, \"#0d0887\"], [0.1111111111111111, \"#46039f\"], [0.2222222222222222, \"#7201a8\"], [0.3333333333333333, \"#9c179e\"], [0.4444444444444444, \"#bd3786\"], [0.5555555555555556, \"#d8576b\"], [0.6666666666666666, \"#ed7953\"], [0.7777777777777778, \"#fb9f3a\"], [0.8888888888888888, \"#fdca26\"], [1.0, \"#f0f921\"]], \"sequentialminus\": [[0.0, \"#0d0887\"], [0.1111111111111111, \"#46039f\"], [0.2222222222222222, \"#7201a8\"], [0.3333333333333333, \"#9c179e\"], [0.4444444444444444, \"#bd3786\"], [0.5555555555555556, \"#d8576b\"], [0.6666666666666666, \"#ed7953\"], [0.7777777777777778, \"#fb9f3a\"], [0.8888888888888888, \"#fdca26\"], [1.0, \"#f0f921\"]]}, \"colorway\": [\"#636efa\", \"#EF553B\", \"#00cc96\", \"#ab63fa\", \"#FFA15A\", \"#19d3f3\", \"#FF6692\", \"#B6E880\", \"#FF97FF\", \"#FECB52\"], \"font\": {\"color\": \"#2a3f5f\"}, \"geo\": {\"bgcolor\": \"white\", \"lakecolor\": \"white\", \"landcolor\": \"#E5ECF6\", \"showlakes\": true, \"showland\": true, \"subunitcolor\": \"white\"}, \"hoverlabel\": {\"align\": \"left\"}, \"hovermode\": \"closest\", \"mapbox\": {\"style\": \"light\"}, \"paper_bgcolor\": \"white\", \"plot_bgcolor\": \"#E5ECF6\", \"polar\": {\"angularaxis\": {\"gridcolor\": \"white\", \"linecolor\": \"white\", \"ticks\": \"\"}, \"bgcolor\": \"#E5ECF6\", \"radialaxis\": {\"gridcolor\": \"white\", \"linecolor\": \"white\", \"ticks\": \"\"}}, \"scene\": {\"xaxis\": {\"backgroundcolor\": \"#E5ECF6\", \"gridcolor\": \"white\", \"gridwidth\": 2, \"linecolor\": \"white\", \"showbackground\": true, \"ticks\": \"\", \"zerolinecolor\": \"white\"}, \"yaxis\": {\"backgroundcolor\": \"#E5ECF6\", \"gridcolor\": \"white\", \"gridwidth\": 2, \"linecolor\": \"white\", \"showbackground\": true, \"ticks\": \"\", \"zerolinecolor\": \"white\"}, \"zaxis\": {\"backgroundcolor\": \"#E5ECF6\", \"gridcolor\": \"white\", \"gridwidth\": 2, \"linecolor\": \"white\", \"showbackground\": true, \"ticks\": \"\", \"zerolinecolor\": \"white\"}}, \"shapedefaults\": {\"line\": {\"color\": \"#2a3f5f\"}}, \"ternary\": {\"aaxis\": {\"gridcolor\": \"white\", \"linecolor\": \"white\", \"ticks\": \"\"}, \"baxis\": {\"gridcolor\": \"white\", \"linecolor\": \"white\", \"ticks\": \"\"}, \"bgcolor\": \"#E5ECF6\", \"caxis\": {\"gridcolor\": \"white\", \"linecolor\": \"white\", \"ticks\": \"\"}}, \"title\": {\"x\": 0.05}, \"xaxis\": {\"automargin\": true, \"gridcolor\": \"white\", \"linecolor\": \"white\", \"ticks\": \"\", \"title\": {\"standoff\": 15}, \"zerolinecolor\": \"white\", \"zerolinewidth\": 2}, \"yaxis\": {\"automargin\": true, \"gridcolor\": \"white\", \"linecolor\": \"white\", \"ticks\": \"\", \"title\": {\"standoff\": 15}, \"zerolinecolor\": \"white\", \"zerolinewidth\": 2}}}, \"title\": {\"text\": \"Closing prices of 3 assets - AMAZON, APPLE, GOOGLE\"}, \"xaxis\": {\"title\": {\"text\": \"Year\"}}, \"yaxis\": {\"title\": {\"text\": \"Price (USD)\"}}},\n",
              "                        {\"responsive\": true}\n",
              "                    ).then(function(){\n",
              "                            \n",
              "var gd = document.getElementById('3d82ba66-60bf-4f62-9c7c-c0d738a480ab');\n",
              "var x = new MutationObserver(function (mutations, observer) {{\n",
              "        var display = window.getComputedStyle(gd).display;\n",
              "        if (!display || display === 'none') {{\n",
              "            console.log([gd, 'removed!']);\n",
              "            Plotly.purge(gd);\n",
              "            observer.disconnect();\n",
              "        }}\n",
              "}});\n",
              "\n",
              "// Listen for the removal of the full notebook cells\n",
              "var notebookContainer = gd.closest('#notebook-container');\n",
              "if (notebookContainer) {{\n",
              "    x.observe(notebookContainer, {childList: true});\n",
              "}}\n",
              "\n",
              "// Listen for the clearing of the current output cell\n",
              "var outputEl = gd.closest('.output');\n",
              "if (outputEl) {{\n",
              "    x.observe(outputEl, {childList: true});\n",
              "}}\n",
              "\n",
              "                        })\n",
              "                };\n",
              "                \n",
              "            </script>\n",
              "        </div>\n",
              "</body>\n",
              "</html>"
            ]
          },
          "metadata": {
            "tags": []
          }
        }
      ]
    },
    {
      "cell_type": "code",
      "metadata": {
        "colab": {
          "base_uri": "https://localhost:8080/",
          "height": 542
        },
        "id": "PVRd2f86AJsY",
        "outputId": "ee913ec2-ea5e-43ff-e4a3-9b38c0543890"
      },
      "source": [
        "data = []\n",
        "data.append(go.Scatter(x = df1['date'], y = df1['volume'].values,name = \"Volume\"))\n",
        "layout = go.Layout(dict(title = \"Volume of GOOGLE asset\",\n",
        "                  xaxis = dict(title = 'Year'),\n",
        "                  yaxis = dict(title = 'Volume'),\n",
        "                  ),legend=dict(\n",
        "                orientation=\"h\"))\n",
        "py.iplot(dict(data=data, layout=layout), filename='basic-line')"
      ],
      "execution_count": 88,
      "outputs": [
        {
          "output_type": "display_data",
          "data": {
            "text/html": [
              "<html>\n",
              "<head><meta charset=\"utf-8\" /></head>\n",
              "<body>\n",
              "    <div>\n",
              "            <script src=\"https://cdnjs.cloudflare.com/ajax/libs/mathjax/2.7.5/MathJax.js?config=TeX-AMS-MML_SVG\"></script><script type=\"text/javascript\">if (window.MathJax) {MathJax.Hub.Config({SVG: {font: \"STIX-Web\"}});}</script>\n",
              "                <script type=\"text/javascript\">window.PlotlyConfig = {MathJaxConfig: 'local'};</script>\n",
              "        <script src=\"https://cdn.plot.ly/plotly-latest.min.js\"></script>    \n",
              "            <div id=\"7c17c235-0391-4da2-9a31-3f43fb765af4\" class=\"plotly-graph-div\" style=\"height:525px; width:100%;\"></div>\n",
              "            <script type=\"text/javascript\">\n",
              "                \n",
              "                    window.PLOTLYENV=window.PLOTLYENV || {};\n",
              "                    \n",
              "                if (document.getElementById(\"7c17c235-0391-4da2-9a31-3f43fb765af4\")) {\n",
              "                    Plotly.newPlot(\n",
              "                        '7c17c235-0391-4da2-9a31-3f43fb765af4',\n",
              "                        [{\"name\": \"Volume\", \"type\": \"scatter\", \"x\": [\"2010-01-04T00:00:00\", \"2010-01-05T00:00:00\", \"2010-01-06T00:00:00\", \"2010-01-07T00:00:00\", \"2010-01-08T00:00:00\", \"2010-01-11T00:00:00\", \"2010-01-12T00:00:00\", \"2010-01-13T00:00:00\", \"2010-01-14T00:00:00\", \"2010-01-15T00:00:00\", \"2010-01-19T00:00:00\", \"2010-01-20T00:00:00\", \"2010-01-21T00:00:00\", \"2010-01-22T00:00:00\", \"2010-01-25T00:00:00\", \"2010-01-26T00:00:00\", \"2010-01-27T00:00:00\", \"2010-01-28T00:00:00\", \"2010-01-29T00:00:00\", \"2010-02-01T00:00:00\", \"2010-02-02T00:00:00\", \"2010-02-03T00:00:00\", \"2010-02-04T00:00:00\", \"2010-02-05T00:00:00\", \"2010-02-08T00:00:00\", \"2010-02-09T00:00:00\", \"2010-02-10T00:00:00\", \"2010-02-11T00:00:00\", \"2010-02-12T00:00:00\", \"2010-02-16T00:00:00\", \"2010-02-17T00:00:00\", \"2010-02-18T00:00:00\", \"2010-02-19T00:00:00\", \"2010-02-22T00:00:00\", \"2010-02-23T00:00:00\", \"2010-02-24T00:00:00\", \"2010-02-25T00:00:00\", \"2010-02-26T00:00:00\", \"2010-03-01T00:00:00\", \"2010-03-02T00:00:00\", \"2010-03-03T00:00:00\", \"2010-03-04T00:00:00\", \"2010-03-05T00:00:00\", \"2010-03-08T00:00:00\", \"2010-03-09T00:00:00\", \"2010-03-10T00:00:00\", \"2010-03-11T00:00:00\", \"2010-03-12T00:00:00\", \"2010-03-15T00:00:00\", \"2010-03-16T00:00:00\", \"2010-03-17T00:00:00\", \"2010-03-18T00:00:00\", \"2010-03-19T00:00:00\", \"2010-03-22T00:00:00\", \"2010-03-23T00:00:00\", \"2010-03-24T00:00:00\", \"2010-03-25T00:00:00\", \"2010-03-26T00:00:00\", \"2010-03-29T00:00:00\", \"2010-03-30T00:00:00\", \"2010-03-31T00:00:00\", \"2010-04-01T00:00:00\", \"2010-04-05T00:00:00\", \"2010-04-06T00:00:00\", \"2010-04-07T00:00:00\", \"2010-04-08T00:00:00\", \"2010-04-09T00:00:00\", \"2010-04-12T00:00:00\", \"2010-04-13T00:00:00\", \"2010-04-14T00:00:00\", \"2010-04-15T00:00:00\", \"2010-04-16T00:00:00\", \"2010-04-19T00:00:00\", \"2010-04-20T00:00:00\", \"2010-04-21T00:00:00\", \"2010-04-22T00:00:00\", \"2010-04-23T00:00:00\", \"2010-04-26T00:00:00\", \"2010-04-27T00:00:00\", \"2010-04-28T00:00:00\", \"2010-04-29T00:00:00\", \"2010-04-30T00:00:00\", \"2010-05-03T00:00:00\", \"2010-05-04T00:00:00\", \"2010-05-05T00:00:00\", \"2010-05-06T00:00:00\", \"2010-05-07T00:00:00\", \"2010-05-10T00:00:00\", \"2010-05-11T00:00:00\", \"2010-05-12T00:00:00\", \"2010-05-13T00:00:00\", \"2010-05-14T00:00:00\", \"2010-05-17T00:00:00\", \"2010-05-18T00:00:00\", \"2010-05-19T00:00:00\", \"2010-05-20T00:00:00\", \"2010-05-21T00:00:00\", \"2010-05-24T00:00:00\", \"2010-05-25T00:00:00\", \"2010-05-26T00:00:00\", \"2010-05-27T00:00:00\", \"2010-05-28T00:00:00\", \"2010-06-01T00:00:00\", \"2010-06-02T00:00:00\", \"2010-06-03T00:00:00\", \"2010-06-04T00:00:00\", \"2010-06-07T00:00:00\", \"2010-06-08T00:00:00\", \"2010-06-09T00:00:00\", \"2010-06-10T00:00:00\", \"2010-06-11T00:00:00\", \"2010-06-14T00:00:00\", \"2010-06-15T00:00:00\", \"2010-06-16T00:00:00\", \"2010-06-17T00:00:00\", \"2010-06-18T00:00:00\", \"2010-06-21T00:00:00\", \"2010-06-22T00:00:00\", \"2010-06-23T00:00:00\", \"2010-06-24T00:00:00\", \"2010-06-25T00:00:00\", \"2010-06-28T00:00:00\", \"2010-06-29T00:00:00\", \"2010-06-30T00:00:00\", \"2010-07-01T00:00:00\", \"2010-07-02T00:00:00\", \"2010-07-06T00:00:00\", \"2010-07-07T00:00:00\", \"2010-07-08T00:00:00\", \"2010-07-09T00:00:00\", \"2010-07-12T00:00:00\", \"2010-07-13T00:00:00\", \"2010-07-14T00:00:00\", \"2010-07-15T00:00:00\", \"2010-07-16T00:00:00\", \"2010-07-19T00:00:00\", \"2010-07-20T00:00:00\", \"2010-07-21T00:00:00\", \"2010-07-22T00:00:00\", \"2010-07-23T00:00:00\", \"2010-07-26T00:00:00\", \"2010-07-27T00:00:00\", \"2010-07-28T00:00:00\", \"2010-07-29T00:00:00\", \"2010-07-30T00:00:00\", \"2010-08-02T00:00:00\", \"2010-08-03T00:00:00\", \"2010-08-04T00:00:00\", \"2010-08-05T00:00:00\", \"2010-08-06T00:00:00\", \"2010-08-09T00:00:00\", \"2010-08-10T00:00:00\", \"2010-08-11T00:00:00\", \"2010-08-12T00:00:00\", \"2010-08-13T00:00:00\", \"2010-08-16T00:00:00\", \"2010-08-17T00:00:00\", \"2010-08-18T00:00:00\", \"2010-08-19T00:00:00\", \"2010-08-20T00:00:00\", \"2010-08-23T00:00:00\", \"2010-08-24T00:00:00\", \"2010-08-25T00:00:00\", \"2010-08-26T00:00:00\", \"2010-08-27T00:00:00\", \"2010-08-30T00:00:00\", \"2010-08-31T00:00:00\", \"2010-09-01T00:00:00\", \"2010-09-02T00:00:00\", \"2010-09-03T00:00:00\", \"2010-09-07T00:00:00\", \"2010-09-08T00:00:00\", \"2010-09-09T00:00:00\", \"2010-09-10T00:00:00\", \"2010-09-13T00:00:00\", \"2010-09-14T00:00:00\", \"2010-09-15T00:00:00\", \"2010-09-16T00:00:00\", \"2010-09-17T00:00:00\", \"2010-09-20T00:00:00\", \"2010-09-21T00:00:00\", \"2010-09-22T00:00:00\", \"2010-09-23T00:00:00\", \"2010-09-24T00:00:00\", \"2010-09-27T00:00:00\", \"2010-09-28T00:00:00\", \"2010-09-29T00:00:00\", \"2010-09-30T00:00:00\", \"2010-10-01T00:00:00\"], \"y\": [3908400.0, 6003300.0, 7949400.0, 12815700.0, 9439100.0, 14411300.0, 9696800.0, 12980200.0, 8471700.0, 10858100.0, 8624700.0, 6494800.0, 12602700.0, 13587100.0, 8830900.0, 8702200.0, 7920800.0, 6451700.0, 8272700.0, 4497000.0, 8184200.0, 5992200.0, 6748600.0, 6305600.0, 5383200.0, 5633500.0, 5343600.0, 4815100.0, 4554800.0, 7301400.0, 4055300.0, 4669100.0, 5101000.0, 4284900.0, 5739400.0, 4648500.0, 6611700.0, 4094500.0, 4471300.0, 8704800.0, 6172600.0, 6361200.0, 7816500.0, 4768000.0, 6346800.0, 11298400.0, 8458100.0, 5501200.0, 9298400.0, 6856100.0, 6636500.0, 3550800.0, 9578800.0, 8001500.0, 10991500.0, 13117200.0, 7853900.0, 5387000.0, 6202700.0, 3951800.0, 6055500.0, 4201100.0, 3799100.0, 4116000.0, 5156800.0, 3891100.0, 4109000.0, 4700000.0, 7816700.0, 6798500.0, 13510000.0, 24446500.0, 7780200.0, 5948800.0, 4778200.0, 6554800.0, 4174600.0, 8728800.0, 7681700.0, 6805300.0, 6111600.0, 4865900.0, 3711800.0, 12140400.0, 9155200.0, 9990100.0, 10167800.0, 8247700.0, 6638500.0, 7695800.0, 6644900.0, 8223700.0, 5582000.0, 5645300.0, 6884500.0, 9816700.0, 19362200.0, 8682500.0, 6028700.0, 6944200.0, 5612500.0, 5783800.0, 5328200.0, 5076500.0, 7294000.0, 7832700.0, 7258100.0, 5364800.0, 5452500.0, 5150600.0, 3559800.0, 4076700.0, 8510600.0, 4574000.0, 3950600.0, 5740000.0, 5961000.0, 4434900.0, 4054100.0, 3783400.0, 4485900.0, 3521000.0, 6997100.0, 7199100.0, 7020100.0, 3868100.0, 5115000.0, 6253100.0, 5332400.0, 8654300.0, 6662100.0, 7944600.0, 6229700.0, 9706600.0, 15633900.0, 9091400.0, 8100800.0, 6552600.0, 4291100.0, 4524200.0, 3986400.0, 4897400.0, 4987000.0, 5345600.0, 4283900.0, 3713600.0, 3600900.0, 7617300.0, 4835900.0, 6632300.0, 3740600.0, 4143800.0, 4441500.0, 4404700.0, 3865500.0, 2607300.0, 3777600.0, 5367400.0, 7842100.0, 7827300.0, 5966400.0, 5519800.0, 5179000.0, 3550400.0, 4620100.0, 2460300.0, 3889700.0, 6450100.0, 3365000.0, 5075700.0, 3416300.0, 4798700.0, 4856300.0, 3944600.0, 4478500.0, 4428500.0, 4800700.0, 3935000.0, 11271900.0, 8798100.0, 8923600.0, 5069100.0, 4630100.0, 6707000.0, 6208500.0, 7302000.0, 4340000.0, 6481700.0, 4445500.0]}],\n",
              "                        {\"legend\": {\"orientation\": \"h\"}, \"template\": {\"data\": {\"bar\": [{\"error_x\": {\"color\": \"#2a3f5f\"}, \"error_y\": {\"color\": \"#2a3f5f\"}, \"marker\": {\"line\": {\"color\": \"#E5ECF6\", \"width\": 0.5}}, \"type\": \"bar\"}], \"barpolar\": [{\"marker\": {\"line\": {\"color\": \"#E5ECF6\", \"width\": 0.5}}, \"type\": \"barpolar\"}], \"carpet\": [{\"aaxis\": {\"endlinecolor\": \"#2a3f5f\", \"gridcolor\": \"white\", \"linecolor\": \"white\", \"minorgridcolor\": \"white\", \"startlinecolor\": \"#2a3f5f\"}, \"baxis\": {\"endlinecolor\": \"#2a3f5f\", \"gridcolor\": \"white\", \"linecolor\": \"white\", \"minorgridcolor\": \"white\", \"startlinecolor\": \"#2a3f5f\"}, \"type\": \"carpet\"}], \"choropleth\": [{\"colorbar\": {\"outlinewidth\": 0, \"ticks\": \"\"}, \"type\": \"choropleth\"}], \"contour\": [{\"colorbar\": {\"outlinewidth\": 0, \"ticks\": \"\"}, \"colorscale\": [[0.0, \"#0d0887\"], [0.1111111111111111, \"#46039f\"], [0.2222222222222222, \"#7201a8\"], [0.3333333333333333, \"#9c179e\"], [0.4444444444444444, \"#bd3786\"], [0.5555555555555556, \"#d8576b\"], [0.6666666666666666, \"#ed7953\"], [0.7777777777777778, \"#fb9f3a\"], [0.8888888888888888, \"#fdca26\"], [1.0, \"#f0f921\"]], \"type\": \"contour\"}], \"contourcarpet\": [{\"colorbar\": {\"outlinewidth\": 0, \"ticks\": \"\"}, \"type\": \"contourcarpet\"}], \"heatmap\": [{\"colorbar\": {\"outlinewidth\": 0, \"ticks\": \"\"}, \"colorscale\": [[0.0, \"#0d0887\"], [0.1111111111111111, \"#46039f\"], [0.2222222222222222, \"#7201a8\"], [0.3333333333333333, \"#9c179e\"], [0.4444444444444444, \"#bd3786\"], [0.5555555555555556, \"#d8576b\"], [0.6666666666666666, \"#ed7953\"], [0.7777777777777778, \"#fb9f3a\"], [0.8888888888888888, \"#fdca26\"], [1.0, \"#f0f921\"]], \"type\": \"heatmap\"}], \"heatmapgl\": [{\"colorbar\": {\"outlinewidth\": 0, \"ticks\": \"\"}, \"colorscale\": [[0.0, \"#0d0887\"], [0.1111111111111111, \"#46039f\"], [0.2222222222222222, \"#7201a8\"], [0.3333333333333333, \"#9c179e\"], [0.4444444444444444, \"#bd3786\"], [0.5555555555555556, \"#d8576b\"], [0.6666666666666666, \"#ed7953\"], [0.7777777777777778, \"#fb9f3a\"], [0.8888888888888888, \"#fdca26\"], [1.0, \"#f0f921\"]], \"type\": \"heatmapgl\"}], \"histogram\": [{\"marker\": {\"colorbar\": {\"outlinewidth\": 0, \"ticks\": \"\"}}, \"type\": \"histogram\"}], \"histogram2d\": [{\"colorbar\": {\"outlinewidth\": 0, \"ticks\": \"\"}, \"colorscale\": [[0.0, \"#0d0887\"], [0.1111111111111111, \"#46039f\"], [0.2222222222222222, \"#7201a8\"], [0.3333333333333333, \"#9c179e\"], [0.4444444444444444, \"#bd3786\"], [0.5555555555555556, \"#d8576b\"], [0.6666666666666666, \"#ed7953\"], [0.7777777777777778, \"#fb9f3a\"], [0.8888888888888888, \"#fdca26\"], [1.0, \"#f0f921\"]], \"type\": \"histogram2d\"}], \"histogram2dcontour\": [{\"colorbar\": {\"outlinewidth\": 0, \"ticks\": \"\"}, \"colorscale\": [[0.0, \"#0d0887\"], [0.1111111111111111, \"#46039f\"], [0.2222222222222222, \"#7201a8\"], [0.3333333333333333, \"#9c179e\"], [0.4444444444444444, \"#bd3786\"], [0.5555555555555556, \"#d8576b\"], [0.6666666666666666, \"#ed7953\"], [0.7777777777777778, \"#fb9f3a\"], [0.8888888888888888, \"#fdca26\"], [1.0, \"#f0f921\"]], \"type\": \"histogram2dcontour\"}], \"mesh3d\": [{\"colorbar\": {\"outlinewidth\": 0, \"ticks\": \"\"}, \"type\": \"mesh3d\"}], \"parcoords\": [{\"line\": {\"colorbar\": {\"outlinewidth\": 0, \"ticks\": \"\"}}, \"type\": \"parcoords\"}], \"pie\": [{\"automargin\": true, \"type\": \"pie\"}], \"scatter\": [{\"marker\": {\"colorbar\": {\"outlinewidth\": 0, \"ticks\": \"\"}}, \"type\": \"scatter\"}], \"scatter3d\": [{\"line\": {\"colorbar\": {\"outlinewidth\": 0, \"ticks\": \"\"}}, \"marker\": {\"colorbar\": {\"outlinewidth\": 0, \"ticks\": \"\"}}, \"type\": \"scatter3d\"}], \"scattercarpet\": [{\"marker\": {\"colorbar\": {\"outlinewidth\": 0, \"ticks\": \"\"}}, \"type\": \"scattercarpet\"}], \"scattergeo\": [{\"marker\": {\"colorbar\": {\"outlinewidth\": 0, \"ticks\": \"\"}}, \"type\": \"scattergeo\"}], \"scattergl\": [{\"marker\": {\"colorbar\": {\"outlinewidth\": 0, \"ticks\": \"\"}}, \"type\": \"scattergl\"}], \"scattermapbox\": [{\"marker\": {\"colorbar\": {\"outlinewidth\": 0, \"ticks\": \"\"}}, \"type\": \"scattermapbox\"}], \"scatterpolar\": [{\"marker\": {\"colorbar\": {\"outlinewidth\": 0, \"ticks\": \"\"}}, \"type\": \"scatterpolar\"}], \"scatterpolargl\": [{\"marker\": {\"colorbar\": {\"outlinewidth\": 0, \"ticks\": \"\"}}, \"type\": \"scatterpolargl\"}], \"scatterternary\": [{\"marker\": {\"colorbar\": {\"outlinewidth\": 0, \"ticks\": \"\"}}, \"type\": \"scatterternary\"}], \"surface\": [{\"colorbar\": {\"outlinewidth\": 0, \"ticks\": \"\"}, \"colorscale\": [[0.0, \"#0d0887\"], [0.1111111111111111, \"#46039f\"], [0.2222222222222222, \"#7201a8\"], [0.3333333333333333, \"#9c179e\"], [0.4444444444444444, \"#bd3786\"], [0.5555555555555556, \"#d8576b\"], [0.6666666666666666, \"#ed7953\"], [0.7777777777777778, \"#fb9f3a\"], [0.8888888888888888, \"#fdca26\"], [1.0, \"#f0f921\"]], \"type\": \"surface\"}], \"table\": [{\"cells\": {\"fill\": {\"color\": \"#EBF0F8\"}, \"line\": {\"color\": \"white\"}}, \"header\": {\"fill\": {\"color\": \"#C8D4E3\"}, \"line\": {\"color\": \"white\"}}, \"type\": \"table\"}]}, \"layout\": {\"annotationdefaults\": {\"arrowcolor\": \"#2a3f5f\", \"arrowhead\": 0, \"arrowwidth\": 1}, \"coloraxis\": {\"colorbar\": {\"outlinewidth\": 0, \"ticks\": \"\"}}, \"colorscale\": {\"diverging\": [[0, \"#8e0152\"], [0.1, \"#c51b7d\"], [0.2, \"#de77ae\"], [0.3, \"#f1b6da\"], [0.4, \"#fde0ef\"], [0.5, \"#f7f7f7\"], [0.6, \"#e6f5d0\"], [0.7, \"#b8e186\"], [0.8, \"#7fbc41\"], [0.9, \"#4d9221\"], [1, \"#276419\"]], \"sequential\": [[0.0, \"#0d0887\"], [0.1111111111111111, \"#46039f\"], [0.2222222222222222, \"#7201a8\"], [0.3333333333333333, \"#9c179e\"], [0.4444444444444444, \"#bd3786\"], [0.5555555555555556, \"#d8576b\"], [0.6666666666666666, \"#ed7953\"], [0.7777777777777778, \"#fb9f3a\"], [0.8888888888888888, \"#fdca26\"], [1.0, \"#f0f921\"]], \"sequentialminus\": [[0.0, \"#0d0887\"], [0.1111111111111111, \"#46039f\"], [0.2222222222222222, \"#7201a8\"], [0.3333333333333333, \"#9c179e\"], [0.4444444444444444, \"#bd3786\"], [0.5555555555555556, \"#d8576b\"], [0.6666666666666666, \"#ed7953\"], [0.7777777777777778, \"#fb9f3a\"], [0.8888888888888888, \"#fdca26\"], [1.0, \"#f0f921\"]]}, \"colorway\": [\"#636efa\", \"#EF553B\", \"#00cc96\", \"#ab63fa\", \"#FFA15A\", \"#19d3f3\", \"#FF6692\", \"#B6E880\", \"#FF97FF\", \"#FECB52\"], \"font\": {\"color\": \"#2a3f5f\"}, \"geo\": {\"bgcolor\": \"white\", \"lakecolor\": \"white\", \"landcolor\": \"#E5ECF6\", \"showlakes\": true, \"showland\": true, \"subunitcolor\": \"white\"}, \"hoverlabel\": {\"align\": \"left\"}, \"hovermode\": \"closest\", \"mapbox\": {\"style\": \"light\"}, \"paper_bgcolor\": \"white\", \"plot_bgcolor\": \"#E5ECF6\", \"polar\": {\"angularaxis\": {\"gridcolor\": \"white\", \"linecolor\": \"white\", \"ticks\": \"\"}, \"bgcolor\": \"#E5ECF6\", \"radialaxis\": {\"gridcolor\": \"white\", \"linecolor\": \"white\", \"ticks\": \"\"}}, \"scene\": {\"xaxis\": {\"backgroundcolor\": \"#E5ECF6\", \"gridcolor\": \"white\", \"gridwidth\": 2, \"linecolor\": \"white\", \"showbackground\": true, \"ticks\": \"\", \"zerolinecolor\": \"white\"}, \"yaxis\": {\"backgroundcolor\": \"#E5ECF6\", \"gridcolor\": \"white\", \"gridwidth\": 2, \"linecolor\": \"white\", \"showbackground\": true, \"ticks\": \"\", \"zerolinecolor\": \"white\"}, \"zaxis\": {\"backgroundcolor\": \"#E5ECF6\", \"gridcolor\": \"white\", \"gridwidth\": 2, \"linecolor\": \"white\", \"showbackground\": true, \"ticks\": \"\", \"zerolinecolor\": \"white\"}}, \"shapedefaults\": {\"line\": {\"color\": \"#2a3f5f\"}}, \"ternary\": {\"aaxis\": {\"gridcolor\": \"white\", \"linecolor\": \"white\", \"ticks\": \"\"}, \"baxis\": {\"gridcolor\": \"white\", \"linecolor\": \"white\", \"ticks\": \"\"}, \"bgcolor\": \"#E5ECF6\", \"caxis\": {\"gridcolor\": \"white\", \"linecolor\": \"white\", \"ticks\": \"\"}}, \"title\": {\"x\": 0.05}, \"xaxis\": {\"automargin\": true, \"gridcolor\": \"white\", \"linecolor\": \"white\", \"ticks\": \"\", \"title\": {\"standoff\": 15}, \"zerolinecolor\": \"white\", \"zerolinewidth\": 2}, \"yaxis\": {\"automargin\": true, \"gridcolor\": \"white\", \"linecolor\": \"white\", \"ticks\": \"\", \"title\": {\"standoff\": 15}, \"zerolinecolor\": \"white\", \"zerolinewidth\": 2}}}, \"title\": {\"text\": \"Volume of GOOGLE asset\"}, \"xaxis\": {\"title\": {\"text\": \"Year\"}}, \"yaxis\": {\"title\": {\"text\": \"Volume\"}}},\n",
              "                        {\"responsive\": true}\n",
              "                    ).then(function(){\n",
              "                            \n",
              "var gd = document.getElementById('7c17c235-0391-4da2-9a31-3f43fb765af4');\n",
              "var x = new MutationObserver(function (mutations, observer) {{\n",
              "        var display = window.getComputedStyle(gd).display;\n",
              "        if (!display || display === 'none') {{\n",
              "            console.log([gd, 'removed!']);\n",
              "            Plotly.purge(gd);\n",
              "            observer.disconnect();\n",
              "        }}\n",
              "}});\n",
              "\n",
              "// Listen for the removal of the full notebook cells\n",
              "var notebookContainer = gd.closest('#notebook-container');\n",
              "if (notebookContainer) {{\n",
              "    x.observe(notebookContainer, {childList: true});\n",
              "}}\n",
              "\n",
              "// Listen for the clearing of the current output cell\n",
              "var outputEl = gd.closest('.output');\n",
              "if (outputEl) {{\n",
              "    x.observe(outputEl, {childList: true});\n",
              "}}\n",
              "\n",
              "                        })\n",
              "                };\n",
              "                \n",
              "            </script>\n",
              "        </div>\n",
              "</body>\n",
              "</html>"
            ]
          },
          "metadata": {
            "tags": []
          }
        }
      ]
    },
    {
      "cell_type": "code",
      "metadata": {
        "colab": {
          "base_uri": "https://localhost:8080/",
          "height": 542
        },
        "id": "SDPvpS5S9zX6",
        "outputId": "6e30a385-4559-46c6-f2c9-fadde8d74622"
      },
      "source": [
        "data = []\n",
        "for asset in ['AMZN','AAPL','GOOGL']:\n",
        "    asset_df = df[(df['symbol'] == asset)]\n",
        "\n",
        "    data.append(go.Scatter(x = asset_df['date'].values, y = asset_df['volume'].values,name = asset ))\n",
        "layout = go.Layout(dict(title = \"Volume of 3 assets - AMAZON, APPLE, GOOGLE\",\n",
        "                  xaxis = dict(title = 'Year'),\n",
        "                  yaxis = dict(title = 'Volume'),\n",
        "                  ),legend=dict(\n",
        "                orientation=\"h\"))\n",
        "py.iplot(dict(data=data, layout=layout), filename='basic-line')"
      ],
      "execution_count": 89,
      "outputs": [
        {
          "output_type": "display_data",
          "data": {
            "text/html": [
              "<html>\n",
              "<head><meta charset=\"utf-8\" /></head>\n",
              "<body>\n",
              "    <div>\n",
              "            <script src=\"https://cdnjs.cloudflare.com/ajax/libs/mathjax/2.7.5/MathJax.js?config=TeX-AMS-MML_SVG\"></script><script type=\"text/javascript\">if (window.MathJax) {MathJax.Hub.Config({SVG: {font: \"STIX-Web\"}});}</script>\n",
              "                <script type=\"text/javascript\">window.PlotlyConfig = {MathJaxConfig: 'local'};</script>\n",
              "        <script src=\"https://cdn.plot.ly/plotly-latest.min.js\"></script>    \n",
              "            <div id=\"707bdeda-f962-4481-9d77-e8200c46b625\" class=\"plotly-graph-div\" style=\"height:525px; width:100%;\"></div>\n",
              "            <script type=\"text/javascript\">\n",
              "                \n",
              "                    window.PLOTLYENV=window.PLOTLYENV || {};\n",
              "                    \n",
              "                if (document.getElementById(\"707bdeda-f962-4481-9d77-e8200c46b625\")) {\n",
              "                    Plotly.newPlot(\n",
              "                        '707bdeda-f962-4481-9d77-e8200c46b625',\n",
              "                        [{\"name\": \"AMZN\", \"type\": \"scatter\", \"x\": [\"2010-01-04\", \"2010-01-05\", \"2010-01-06\", \"2010-01-07\", \"2010-01-08\", \"2010-01-11\", \"2010-01-12\", \"2010-01-13\", \"2010-01-14\", \"2010-01-15\", \"2010-01-19\", \"2010-01-20\", \"2010-01-21\", \"2010-01-22\", \"2010-01-25\", \"2010-01-26\", \"2010-01-27\", \"2010-01-28\", \"2010-01-29\", \"2010-02-01\", \"2010-02-02\", \"2010-02-03\", \"2010-02-04\", \"2010-02-05\", \"2010-02-08\", \"2010-02-09\", \"2010-02-10\", \"2010-02-11\", \"2010-02-12\", \"2010-02-16\", \"2010-02-17\", \"2010-02-18\", \"2010-02-19\", \"2010-02-22\", \"2010-02-23\", \"2010-02-24\", \"2010-02-25\", \"2010-02-26\", \"2010-03-01\", \"2010-03-02\", \"2010-03-03\", \"2010-03-04\", \"2010-03-05\", \"2010-03-08\", \"2010-03-09\", \"2010-03-10\", \"2010-03-11\", \"2010-03-12\", \"2010-03-15\", \"2010-03-16\", \"2010-03-17\", \"2010-03-18\", \"2010-03-19\", \"2010-03-22\", \"2010-03-23\", \"2010-03-24\", \"2010-03-25\", \"2010-03-26\", \"2010-03-29\", \"2010-03-30\", \"2010-03-31\", \"2010-04-01\", \"2010-04-05\", \"2010-04-06\", \"2010-04-07\", \"2010-04-08\", \"2010-04-09\", \"2010-04-12\", \"2010-04-13\", \"2010-04-14\", \"2010-04-15\", \"2010-04-16\", \"2010-04-19\", \"2010-04-20\", \"2010-04-21\", \"2010-04-22\", \"2010-04-23\", \"2010-04-26\", \"2010-04-27\", \"2010-04-28\", \"2010-04-29\", \"2010-04-30\", \"2010-05-03\", \"2010-05-04\", \"2010-05-05\", \"2010-05-06\", \"2010-05-07\", \"2010-05-10\", \"2010-05-11\", \"2010-05-12\", \"2010-05-13\", \"2010-05-14\", \"2010-05-17\", \"2010-05-18\", \"2010-05-19\", \"2010-05-20\", \"2010-05-21\", \"2010-05-24\", \"2010-05-25\", \"2010-05-26\", \"2010-05-27\", \"2010-05-28\", \"2010-06-01\", \"2010-06-02\", \"2010-06-03\", \"2010-06-04\", \"2010-06-07\", \"2010-06-08\", \"2010-06-09\", \"2010-06-10\", \"2010-06-11\", \"2010-06-14\", \"2010-06-15\", \"2010-06-16\", \"2010-06-17\", \"2010-06-18\", \"2010-06-21\", \"2010-06-22\", \"2010-06-23\", \"2010-06-24\", \"2010-06-25\", \"2010-06-28\", \"2010-06-29\", \"2010-06-30\", \"2010-07-01\", \"2010-07-02\", \"2010-07-06\", \"2010-07-07\", \"2010-07-08\", \"2010-07-09\", \"2010-07-12\", \"2010-07-13\", \"2010-07-14\", \"2010-07-15\", \"2010-07-16\", \"2010-07-19\", \"2010-07-20\", \"2010-07-21\", \"2010-07-22\", \"2010-07-23\", \"2010-07-26\", \"2010-07-27\", \"2010-07-28\", \"2010-07-29\", \"2010-07-30\", \"2010-08-02\", \"2010-08-03\", \"2010-08-04\", \"2010-08-05\", \"2010-08-06\", \"2010-08-09\", \"2010-08-10\", \"2010-08-11\", \"2010-08-12\", \"2010-08-13\", \"2010-08-16\", \"2010-08-17\", \"2010-08-18\", \"2010-08-19\", \"2010-08-20\", \"2010-08-23\", \"2010-08-24\", \"2010-08-25\", \"2010-08-26\", \"2010-08-27\", \"2010-08-30\", \"2010-08-31\", \"2010-09-01\", \"2010-09-02\", \"2010-09-03\", \"2010-09-07\", \"2010-09-08\", \"2010-09-09\", \"2010-09-10\", \"2010-09-13\", \"2010-09-14\", \"2010-09-15\", \"2010-09-16\", \"2010-09-17\", \"2010-09-20\", \"2010-09-21\", \"2010-09-22\", \"2010-09-23\", \"2010-09-24\", \"2010-09-27\", \"2010-09-28\", \"2010-09-29\", \"2010-09-30\", \"2010-10-01\", \"2010-10-04\"], \"y\": [7599900.0, 8851900.0, 7178800.0, 11030200.0, 9830500.0, 8779400.0, 9096300.0, 10723200.0, 9774900.0, 15376500.0, 8892600.0, 9074700.0, 9970600.0, 11568900.0, 12023900.0, 9559000.0, 14765300.0, 27293100.0, 29471300.0, 37774400.0, 23079700.0, 12405900.0, 12784000.0, 11024800.0, 9890200.0, 9223000.0, 6233200.0, 8343500.0, 8073500.0, 8932700.0, 8944800.0, 9800100.0, 7115600.0, 6807300.0, 7068200.0, 7389900.0, 9533400.0, 5721600.0, 13296500.0, 12097500.0, 6440400.0, 7509700.0, 6769300.0, 5605900.0, 6070800.0, 5625700.0, 7240800.0, 6150800.0, 6329200.0, 4132500.0, 4358800.0, 5021300.0, 8905000.0, 5383400.0, 4213100.0, 4696400.0, 16209600.0, 6565700.0, 4626900.0, 6192700.0, 4600600.0, 8785800.0, 5816500.0, 7950300.0, 5945400.0, 12689100.0, 6011100.0, 5445300.0, 4785500.0, 7900300.0, 7829600.0, 8396800.0, 6022000.0, 4311700.0, 7374400.0, 15165800.0, 18975200.0, 9318300.0, 8639000.0, 9235300.0, 6314200.0, 6113500.0, 5654600.0, 12667800.0, 9458100.0, 10189000.0, 11927600.0, 6806100.0, 6044100.0, 5904500.0, 5940200.0, 5277800.0, 5642200.0, 5256900.0, 6463300.0, 8594400.0, 7966900.0, 4535900.0, 6913400.0, 6964600.0, 4747700.0, 3954800.0, 3659500.0, 4764700.0, 5276900.0, 5497700.0, 6566400.0, 11484400.0, 7369200.0, 6061800.0, 4204600.0, 3923000.0, 4541000.0, 3964300.0, 3479000.0, 3836000.0, 5327700.0, 6207200.0, 5455100.0, 7771100.0, 5769700.0, 5612200.0, 12866300.0, 9740700.0, 8529800.0, 4477100.0, 5219300.0, 4941000.0, 6775000.0, 4065100.0, 4783600.0, 7091100.0, 5257000.0, 6047700.0, 6227900.0, 5030900.0, 6785000.0, 5011700.0, 15003400.0, 42421100.0, 11137800.0, 7796100.0, 5472300.0, 6175800.0, 7077500.0, 5443700.0, 5953800.0, 9270800.0, 4282300.0, 5065200.0, 5085800.0, 5706900.0, 5541700.0, 4367900.0, 3976600.0, 4024700.0, 5044700.0, 7901500.0, 5582500.0, 4170100.0, 3861300.0, 5369700.0, 5344500.0, 4694500.0, 5080000.0, 3426000.0, 4225600.0, 7138300.0, 5407400.0, 6581200.0, 3883000.0, 5828500.0, 4958000.0, 5043600.0, 5077400.0, 4319400.0, 4903600.0, 5827000.0, 7259600.0, 6449400.0, 7542000.0, 6612400.0, 7065600.0, 10590600.0, 6446300.0, 8494200.0, 7287500.0, 7606000.0, 8683400.0, 5346500.0]}, {\"name\": \"AAPL\", \"type\": \"scatter\", \"x\": [\"2010-01-04\", \"2010-01-05\", \"2010-01-06\", \"2010-01-07\", \"2010-01-08\", \"2010-01-11\", \"2010-01-12\", \"2010-01-13\", \"2010-01-14\", \"2010-01-15\", \"2010-01-19\", \"2010-01-20\", \"2010-01-21\", \"2010-01-22\", \"2010-01-25\", \"2010-01-26\", \"2010-01-27\", \"2010-01-28\", \"2010-01-29\", \"2010-02-01\", \"2010-02-02\", \"2010-02-03\", \"2010-02-04\", \"2010-02-05\", \"2010-02-08\", \"2010-02-09\", \"2010-02-10\", \"2010-02-11\", \"2010-02-12\", \"2010-02-16\", \"2010-02-17\", \"2010-02-18\", \"2010-02-19\", \"2010-02-22\", \"2010-02-23\", \"2010-02-24\", \"2010-02-25\", \"2010-02-26\", \"2010-03-01\", \"2010-03-02\", \"2010-03-03\", \"2010-03-04\", \"2010-03-05\", \"2010-03-08\", \"2010-03-09\", \"2010-03-10\", \"2010-03-11\", \"2010-03-12\", \"2010-03-15\", \"2010-03-16\", \"2010-03-17\", \"2010-03-18\", \"2010-03-19\", \"2010-03-22\", \"2010-03-23\", \"2010-03-24\", \"2010-03-25\", \"2010-03-26\", \"2010-03-29\", \"2010-03-30\", \"2010-03-31\", \"2010-04-01\", \"2010-04-05\", \"2010-04-06\", \"2010-04-07\", \"2010-04-08\", \"2010-04-09\", \"2010-04-12\", \"2010-04-13\", \"2010-04-14\", \"2010-04-15\", \"2010-04-16\", \"2010-04-19\", \"2010-04-20\", \"2010-04-21\", \"2010-04-22\", \"2010-04-23\", \"2010-04-26\", \"2010-04-27\", \"2010-04-28\", \"2010-04-29\", \"2010-04-30\", \"2010-05-03\", \"2010-05-04\", \"2010-05-05\", \"2010-05-06\", \"2010-05-07\", \"2010-05-10\", \"2010-05-11\", \"2010-05-12\", \"2010-05-13\", \"2010-05-14\", \"2010-05-17\", \"2010-05-18\", \"2010-05-19\", \"2010-05-20\", \"2010-05-21\", \"2010-05-24\", \"2010-05-25\", \"2010-05-26\", \"2010-05-27\", \"2010-05-28\", \"2010-06-01\", \"2010-06-02\", \"2010-06-03\", \"2010-06-04\", \"2010-06-07\", \"2010-06-08\", \"2010-06-09\", \"2010-06-10\", \"2010-06-11\", \"2010-06-14\", \"2010-06-15\", \"2010-06-16\", \"2010-06-17\", \"2010-06-18\", \"2010-06-21\", \"2010-06-22\", \"2010-06-23\", \"2010-06-24\", \"2010-06-25\", \"2010-06-28\", \"2010-06-29\", \"2010-06-30\", \"2010-07-01\", \"2010-07-02\", \"2010-07-06\", \"2010-07-07\", \"2010-07-08\", \"2010-07-09\", \"2010-07-12\", \"2010-07-13\", \"2010-07-14\", \"2010-07-15\", \"2010-07-16\", \"2010-07-19\", \"2010-07-20\", \"2010-07-21\", \"2010-07-22\", \"2010-07-23\", \"2010-07-26\", \"2010-07-27\", \"2010-07-28\", \"2010-07-29\", \"2010-07-30\", \"2010-08-02\", \"2010-08-03\", \"2010-08-04\", \"2010-08-05\", \"2010-08-06\", \"2010-08-09\", \"2010-08-10\", \"2010-08-11\", \"2010-08-12\", \"2010-08-13\", \"2010-08-16\", \"2010-08-17\", \"2010-08-18\", \"2010-08-19\", \"2010-08-20\", \"2010-08-23\", \"2010-08-24\", \"2010-08-25\", \"2010-08-26\", \"2010-08-27\", \"2010-08-30\", \"2010-08-31\", \"2010-09-01\", \"2010-09-02\", \"2010-09-03\", \"2010-09-07\", \"2010-09-08\", \"2010-09-09\", \"2010-09-10\", \"2010-09-13\", \"2010-09-14\", \"2010-09-15\", \"2010-09-16\", \"2010-09-17\", \"2010-09-20\", \"2010-09-21\", \"2010-09-22\", \"2010-09-23\", \"2010-09-24\", \"2010-09-27\", \"2010-09-28\", \"2010-09-29\", \"2010-09-30\", \"2010-10-01\", \"2010-10-04\"], \"y\": [123432400.0, 150476200.0, 138040000.0, 119282800.0, 111902700.0, 115557400.0, 148614900.0, 151473000.0, 108223500.0, 148516900.0, 182501900.0, 153038200.0, 152038600.0, 220441900.0, 266424900.0, 466777500.0, 430642100.0, 293375600.0, 311488100.0, 187469100.0, 174585600.0, 153832000.0, 189413000.0, 212576700.0, 119567700.0, 158221700.0, 92590400.0, 137586400.0, 163867200.0, 135934400.0, 109099200.0, 105706300.0, 103867400.0, 97640900.0, 143773700.0, 115141600.0, 166281500.0, 126865200.0, 137523400.0, 141636600.0, 93013200.0, 91510300.0, 224905100.0, 107472400.0, 230064800.0, 149054500.0, 101425100.0, 104080900.0, 123375700.0, 111727000.0, 112739200.0, 85527400.0, 139861400.0, 114104900.0, 150607800.0, 149445100.0, 135571100.0, 160218800.0, 135186100.0, 131827500.0, 107664900.0, 150786300.0, 171126900.0, 111754300.0, 157125500.0, 143247300.0, 83545700.0, 83256600.0, 76552700.0, 101019100.0, 94196200.0, 187636400.0, 141731100.0, 184581600.0, 245597800.0, 198356200.0, 199238900.0, 119767200.0, 177335900.0, 189600600.0, 139710200.0, 135615900.0, 113585500.0, 180954900.0, 220775800.0, 321465200.0, 419004600.0, 246076600.0, 212226700.0, 163594900.0, 149928100.0, 189840700.0, 190708700.0, 195669600.0, 256431700.0, 320728800.0, 305972800.0, 188559700.0, 262001600.0, 212663500.0, 166570600.0, 203903700.0, 219118200.0, 172137000.0, 162526700.0, 189576100.0, 221735500.0, 250192600.0, 213657500.0, 194089000.0, 136439800.0, 150740100.0, 146268500.0, 195919500.0, 218213800.0, 196155400.0, 194122600.0, 179315500.0, 192114300.0, 178569300.0, 137485600.0, 146237000.0, 283336200.0, 184863000.0, 255724000.0, 173460700.0, 153808900.0, 163639000.0, 184536100.0, 108330600.0, 140719600.0, 297731000.0, 203011900.0, 206216500.0, 259964600.0, 256119500.0, 268737700.0, 296417800.0, 161329700.0, 133347200.0, 105137900.0, 146192900.0, 129996300.0, 160951700.0, 112052500.0, 107013900.0, 104413400.0, 105093800.0, 72274300.0, 111224400.0, 75782000.0, 112980000.0, 155013600.0, 133730100.0, 88717300.0, 79607500.0, 105660100.0, 84924000.0, 106676500.0, 96057500.0, 103510400.0, 150641400.0, 149216900.0, 116626300.0, 137097800.0, 95822300.0, 105196700.0, 174259400.0, 103856900.0, 130197200.0, 85639400.0, 131637800.0, 109643800.0, 96885600.0, 97195000.0, 102037600.0, 107342200.0, 163025800.0, 158619300.0, 164669400.0, 167018600.0, 146322400.0, 196529200.0, 162372000.0, 120708700.0, 258760600.0, 117411000.0, 168347900.0, 112035700.0, 108825500.0]}, {\"name\": \"GOOGL\", \"type\": \"scatter\", \"x\": [\"2010-01-04\", \"2010-01-05\", \"2010-01-06\", \"2010-01-07\", \"2010-01-08\", \"2010-01-11\", \"2010-01-12\", \"2010-01-13\", \"2010-01-14\", \"2010-01-15\", \"2010-01-19\", \"2010-01-20\", \"2010-01-21\", \"2010-01-22\", \"2010-01-25\", \"2010-01-26\", \"2010-01-27\", \"2010-01-28\", \"2010-01-29\", \"2010-02-01\", \"2010-02-02\", \"2010-02-03\", \"2010-02-04\", \"2010-02-05\", \"2010-02-08\", \"2010-02-09\", \"2010-02-10\", \"2010-02-11\", \"2010-02-12\", \"2010-02-16\", \"2010-02-17\", \"2010-02-18\", \"2010-02-19\", \"2010-02-22\", \"2010-02-23\", \"2010-02-24\", \"2010-02-25\", \"2010-02-26\", \"2010-03-01\", \"2010-03-02\", \"2010-03-03\", \"2010-03-04\", \"2010-03-05\", \"2010-03-08\", \"2010-03-09\", \"2010-03-10\", \"2010-03-11\", \"2010-03-12\", \"2010-03-15\", \"2010-03-16\", \"2010-03-17\", \"2010-03-18\", \"2010-03-19\", \"2010-03-22\", \"2010-03-23\", \"2010-03-24\", \"2010-03-25\", \"2010-03-26\", \"2010-03-29\", \"2010-03-30\", \"2010-03-31\", \"2010-04-01\", \"2010-04-05\", \"2010-04-06\", \"2010-04-07\", \"2010-04-08\", \"2010-04-09\", \"2010-04-12\", \"2010-04-13\", \"2010-04-14\", \"2010-04-15\", \"2010-04-16\", \"2010-04-19\", \"2010-04-20\", \"2010-04-21\", \"2010-04-22\", \"2010-04-23\", \"2010-04-26\", \"2010-04-27\", \"2010-04-28\", \"2010-04-29\", \"2010-04-30\", \"2010-05-03\", \"2010-05-04\", \"2010-05-05\", \"2010-05-06\", \"2010-05-07\", \"2010-05-10\", \"2010-05-11\", \"2010-05-12\", \"2010-05-13\", \"2010-05-14\", \"2010-05-17\", \"2010-05-18\", \"2010-05-19\", \"2010-05-20\", \"2010-05-21\", \"2010-05-24\", \"2010-05-25\", \"2010-05-26\", \"2010-05-27\", \"2010-05-28\", \"2010-06-01\", \"2010-06-02\", \"2010-06-03\", \"2010-06-04\", \"2010-06-07\", \"2010-06-08\", \"2010-06-09\", \"2010-06-10\", \"2010-06-11\", \"2010-06-14\", \"2010-06-15\", \"2010-06-16\", \"2010-06-17\", \"2010-06-18\", \"2010-06-21\", \"2010-06-22\", \"2010-06-23\", \"2010-06-24\", \"2010-06-25\", \"2010-06-28\", \"2010-06-29\", \"2010-06-30\", \"2010-07-01\", \"2010-07-02\", \"2010-07-06\", \"2010-07-07\", \"2010-07-08\", \"2010-07-09\", \"2010-07-12\", \"2010-07-13\", \"2010-07-14\", \"2010-07-15\", \"2010-07-16\", \"2010-07-19\", \"2010-07-20\", \"2010-07-21\", \"2010-07-22\", \"2010-07-23\", \"2010-07-26\", \"2010-07-27\", \"2010-07-28\", \"2010-07-29\", \"2010-07-30\", \"2010-08-02\", \"2010-08-03\", \"2010-08-04\", \"2010-08-05\", \"2010-08-06\", \"2010-08-09\", \"2010-08-10\", \"2010-08-11\", \"2010-08-12\", \"2010-08-13\", \"2010-08-16\", \"2010-08-17\", \"2010-08-18\", \"2010-08-19\", \"2010-08-20\", \"2010-08-23\", \"2010-08-24\", \"2010-08-25\", \"2010-08-26\", \"2010-08-27\", \"2010-08-30\", \"2010-08-31\", \"2010-09-01\", \"2010-09-02\", \"2010-09-03\", \"2010-09-07\", \"2010-09-08\", \"2010-09-09\", \"2010-09-10\", \"2010-09-13\", \"2010-09-14\", \"2010-09-15\", \"2010-09-16\", \"2010-09-17\", \"2010-09-20\", \"2010-09-21\", \"2010-09-22\", \"2010-09-23\", \"2010-09-24\", \"2010-09-27\", \"2010-09-28\", \"2010-09-29\", \"2010-09-30\", \"2010-10-01\"], \"y\": [3908400.0, 6003300.0, 7949400.0, 12815700.0, 9439100.0, 14411300.0, 9696800.0, 12980200.0, 8471700.0, 10858100.0, 8624700.0, 6494800.0, 12602700.0, 13587100.0, 8830900.0, 8702200.0, 7920800.0, 6451700.0, 8272700.0, 4497000.0, 8184200.0, 5992200.0, 6748600.0, 6305600.0, 5383200.0, 5633500.0, 5343600.0, 4815100.0, 4554800.0, 7301400.0, 4055300.0, 4669100.0, 5101000.0, 4284900.0, 5739400.0, 4648500.0, 6611700.0, 4094500.0, 4471300.0, 8704800.0, 6172600.0, 6361200.0, 7816500.0, 4768000.0, 6346800.0, 11298400.0, 8458100.0, 5501200.0, 9298400.0, 6856100.0, 6636500.0, 3550800.0, 9578800.0, 8001500.0, 10991500.0, 13117200.0, 7853900.0, 5387000.0, 6202700.0, 3951800.0, 6055500.0, 4201100.0, 3799100.0, 4116000.0, 5156800.0, 3891100.0, 4109000.0, 4700000.0, 7816700.0, 6798500.0, 13510000.0, 24446500.0, 7780200.0, 5948800.0, 4778200.0, 6554800.0, 4174600.0, 8728800.0, 7681700.0, 6805300.0, 6111600.0, 4865900.0, 3711800.0, 12140400.0, 9155200.0, 9990100.0, 10167800.0, 8247700.0, 6638500.0, 7695800.0, 6644900.0, 8223700.0, 5582000.0, 5645300.0, 6884500.0, 9816700.0, 19362200.0, 8682500.0, 6028700.0, 6944200.0, 5612500.0, 5783800.0, 5328200.0, 5076500.0, 7294000.0, 7832700.0, 7258100.0, 5364800.0, 5452500.0, 5150600.0, 3559800.0, 4076700.0, 8510600.0, 4574000.0, 3950600.0, 5740000.0, 5961000.0, 4434900.0, 4054100.0, 3783400.0, 4485900.0, 3521000.0, 6997100.0, 7199100.0, 7020100.0, 3868100.0, 5115000.0, 6253100.0, 5332400.0, 8654300.0, 6662100.0, 7944600.0, 6229700.0, 9706600.0, 15633900.0, 9091400.0, 8100800.0, 6552600.0, 4291100.0, 4524200.0, 3986400.0, 4897400.0, 4987000.0, 5345600.0, 4283900.0, 3713600.0, 3600900.0, 7617300.0, 4835900.0, 6632300.0, 3740600.0, 4143800.0, 4441500.0, 4404700.0, 3865500.0, 2607300.0, 3777600.0, 5367400.0, 7842100.0, 7827300.0, 5966400.0, 5519800.0, 5179000.0, 3550400.0, 4620100.0, 2460300.0, 3889700.0, 6450100.0, 3365000.0, 5075700.0, 3416300.0, 4798700.0, 4856300.0, 3944600.0, 4478500.0, 4428500.0, 4800700.0, 3935000.0, 11271900.0, 8798100.0, 8923600.0, 5069100.0, 4630100.0, 6707000.0, 6208500.0, 7302000.0, 4340000.0, 6481700.0, 4445500.0]}],\n",
              "                        {\"legend\": {\"orientation\": \"h\"}, \"template\": {\"data\": {\"bar\": [{\"error_x\": {\"color\": \"#2a3f5f\"}, \"error_y\": {\"color\": \"#2a3f5f\"}, \"marker\": {\"line\": {\"color\": \"#E5ECF6\", \"width\": 0.5}}, \"type\": \"bar\"}], \"barpolar\": [{\"marker\": {\"line\": {\"color\": \"#E5ECF6\", \"width\": 0.5}}, \"type\": \"barpolar\"}], \"carpet\": [{\"aaxis\": {\"endlinecolor\": \"#2a3f5f\", \"gridcolor\": \"white\", \"linecolor\": \"white\", \"minorgridcolor\": \"white\", \"startlinecolor\": \"#2a3f5f\"}, \"baxis\": {\"endlinecolor\": \"#2a3f5f\", \"gridcolor\": \"white\", \"linecolor\": \"white\", \"minorgridcolor\": \"white\", \"startlinecolor\": \"#2a3f5f\"}, \"type\": \"carpet\"}], \"choropleth\": [{\"colorbar\": {\"outlinewidth\": 0, \"ticks\": \"\"}, \"type\": \"choropleth\"}], \"contour\": [{\"colorbar\": {\"outlinewidth\": 0, \"ticks\": \"\"}, \"colorscale\": [[0.0, \"#0d0887\"], [0.1111111111111111, \"#46039f\"], [0.2222222222222222, \"#7201a8\"], [0.3333333333333333, \"#9c179e\"], [0.4444444444444444, \"#bd3786\"], [0.5555555555555556, \"#d8576b\"], [0.6666666666666666, \"#ed7953\"], [0.7777777777777778, \"#fb9f3a\"], [0.8888888888888888, \"#fdca26\"], [1.0, \"#f0f921\"]], \"type\": \"contour\"}], \"contourcarpet\": [{\"colorbar\": {\"outlinewidth\": 0, \"ticks\": \"\"}, \"type\": \"contourcarpet\"}], \"heatmap\": [{\"colorbar\": {\"outlinewidth\": 0, \"ticks\": \"\"}, \"colorscale\": [[0.0, \"#0d0887\"], [0.1111111111111111, \"#46039f\"], [0.2222222222222222, \"#7201a8\"], [0.3333333333333333, \"#9c179e\"], [0.4444444444444444, \"#bd3786\"], [0.5555555555555556, \"#d8576b\"], [0.6666666666666666, \"#ed7953\"], [0.7777777777777778, \"#fb9f3a\"], [0.8888888888888888, \"#fdca26\"], [1.0, \"#f0f921\"]], \"type\": \"heatmap\"}], \"heatmapgl\": [{\"colorbar\": {\"outlinewidth\": 0, \"ticks\": \"\"}, \"colorscale\": [[0.0, \"#0d0887\"], [0.1111111111111111, \"#46039f\"], [0.2222222222222222, \"#7201a8\"], [0.3333333333333333, \"#9c179e\"], [0.4444444444444444, \"#bd3786\"], [0.5555555555555556, \"#d8576b\"], [0.6666666666666666, \"#ed7953\"], [0.7777777777777778, \"#fb9f3a\"], [0.8888888888888888, \"#fdca26\"], [1.0, \"#f0f921\"]], \"type\": \"heatmapgl\"}], \"histogram\": [{\"marker\": {\"colorbar\": {\"outlinewidth\": 0, \"ticks\": \"\"}}, \"type\": \"histogram\"}], \"histogram2d\": [{\"colorbar\": {\"outlinewidth\": 0, \"ticks\": \"\"}, \"colorscale\": [[0.0, \"#0d0887\"], [0.1111111111111111, \"#46039f\"], [0.2222222222222222, \"#7201a8\"], [0.3333333333333333, \"#9c179e\"], [0.4444444444444444, \"#bd3786\"], [0.5555555555555556, \"#d8576b\"], [0.6666666666666666, \"#ed7953\"], [0.7777777777777778, \"#fb9f3a\"], [0.8888888888888888, \"#fdca26\"], [1.0, \"#f0f921\"]], \"type\": \"histogram2d\"}], \"histogram2dcontour\": [{\"colorbar\": {\"outlinewidth\": 0, \"ticks\": \"\"}, \"colorscale\": [[0.0, \"#0d0887\"], [0.1111111111111111, \"#46039f\"], [0.2222222222222222, \"#7201a8\"], [0.3333333333333333, \"#9c179e\"], [0.4444444444444444, \"#bd3786\"], [0.5555555555555556, \"#d8576b\"], [0.6666666666666666, \"#ed7953\"], [0.7777777777777778, \"#fb9f3a\"], [0.8888888888888888, \"#fdca26\"], [1.0, \"#f0f921\"]], \"type\": \"histogram2dcontour\"}], \"mesh3d\": [{\"colorbar\": {\"outlinewidth\": 0, \"ticks\": \"\"}, \"type\": \"mesh3d\"}], \"parcoords\": [{\"line\": {\"colorbar\": {\"outlinewidth\": 0, \"ticks\": \"\"}}, \"type\": \"parcoords\"}], \"pie\": [{\"automargin\": true, \"type\": \"pie\"}], \"scatter\": [{\"marker\": {\"colorbar\": {\"outlinewidth\": 0, \"ticks\": \"\"}}, \"type\": \"scatter\"}], \"scatter3d\": [{\"line\": {\"colorbar\": {\"outlinewidth\": 0, \"ticks\": \"\"}}, \"marker\": {\"colorbar\": {\"outlinewidth\": 0, \"ticks\": \"\"}}, \"type\": \"scatter3d\"}], \"scattercarpet\": [{\"marker\": {\"colorbar\": {\"outlinewidth\": 0, \"ticks\": \"\"}}, \"type\": \"scattercarpet\"}], \"scattergeo\": [{\"marker\": {\"colorbar\": {\"outlinewidth\": 0, \"ticks\": \"\"}}, \"type\": \"scattergeo\"}], \"scattergl\": [{\"marker\": {\"colorbar\": {\"outlinewidth\": 0, \"ticks\": \"\"}}, \"type\": \"scattergl\"}], \"scattermapbox\": [{\"marker\": {\"colorbar\": {\"outlinewidth\": 0, \"ticks\": \"\"}}, \"type\": \"scattermapbox\"}], \"scatterpolar\": [{\"marker\": {\"colorbar\": {\"outlinewidth\": 0, \"ticks\": \"\"}}, \"type\": \"scatterpolar\"}], \"scatterpolargl\": [{\"marker\": {\"colorbar\": {\"outlinewidth\": 0, \"ticks\": \"\"}}, \"type\": \"scatterpolargl\"}], \"scatterternary\": [{\"marker\": {\"colorbar\": {\"outlinewidth\": 0, \"ticks\": \"\"}}, \"type\": \"scatterternary\"}], \"surface\": [{\"colorbar\": {\"outlinewidth\": 0, \"ticks\": \"\"}, \"colorscale\": [[0.0, \"#0d0887\"], [0.1111111111111111, \"#46039f\"], [0.2222222222222222, \"#7201a8\"], [0.3333333333333333, \"#9c179e\"], [0.4444444444444444, \"#bd3786\"], [0.5555555555555556, \"#d8576b\"], [0.6666666666666666, \"#ed7953\"], [0.7777777777777778, \"#fb9f3a\"], [0.8888888888888888, \"#fdca26\"], [1.0, \"#f0f921\"]], \"type\": \"surface\"}], \"table\": [{\"cells\": {\"fill\": {\"color\": \"#EBF0F8\"}, \"line\": {\"color\": \"white\"}}, \"header\": {\"fill\": {\"color\": \"#C8D4E3\"}, \"line\": {\"color\": \"white\"}}, \"type\": \"table\"}]}, \"layout\": {\"annotationdefaults\": {\"arrowcolor\": \"#2a3f5f\", \"arrowhead\": 0, \"arrowwidth\": 1}, \"coloraxis\": {\"colorbar\": {\"outlinewidth\": 0, \"ticks\": \"\"}}, \"colorscale\": {\"diverging\": [[0, \"#8e0152\"], [0.1, \"#c51b7d\"], [0.2, \"#de77ae\"], [0.3, \"#f1b6da\"], [0.4, \"#fde0ef\"], [0.5, \"#f7f7f7\"], [0.6, \"#e6f5d0\"], [0.7, \"#b8e186\"], [0.8, \"#7fbc41\"], [0.9, \"#4d9221\"], [1, \"#276419\"]], \"sequential\": [[0.0, \"#0d0887\"], [0.1111111111111111, \"#46039f\"], [0.2222222222222222, \"#7201a8\"], [0.3333333333333333, \"#9c179e\"], [0.4444444444444444, \"#bd3786\"], [0.5555555555555556, \"#d8576b\"], [0.6666666666666666, \"#ed7953\"], [0.7777777777777778, \"#fb9f3a\"], [0.8888888888888888, \"#fdca26\"], [1.0, \"#f0f921\"]], \"sequentialminus\": [[0.0, \"#0d0887\"], [0.1111111111111111, \"#46039f\"], [0.2222222222222222, \"#7201a8\"], [0.3333333333333333, \"#9c179e\"], [0.4444444444444444, \"#bd3786\"], [0.5555555555555556, \"#d8576b\"], [0.6666666666666666, \"#ed7953\"], [0.7777777777777778, \"#fb9f3a\"], [0.8888888888888888, \"#fdca26\"], [1.0, \"#f0f921\"]]}, \"colorway\": [\"#636efa\", \"#EF553B\", \"#00cc96\", \"#ab63fa\", \"#FFA15A\", \"#19d3f3\", \"#FF6692\", \"#B6E880\", \"#FF97FF\", \"#FECB52\"], \"font\": {\"color\": \"#2a3f5f\"}, \"geo\": {\"bgcolor\": \"white\", \"lakecolor\": \"white\", \"landcolor\": \"#E5ECF6\", \"showlakes\": true, \"showland\": true, \"subunitcolor\": \"white\"}, \"hoverlabel\": {\"align\": \"left\"}, \"hovermode\": \"closest\", \"mapbox\": {\"style\": \"light\"}, \"paper_bgcolor\": \"white\", \"plot_bgcolor\": \"#E5ECF6\", \"polar\": {\"angularaxis\": {\"gridcolor\": \"white\", \"linecolor\": \"white\", \"ticks\": \"\"}, \"bgcolor\": \"#E5ECF6\", \"radialaxis\": {\"gridcolor\": \"white\", \"linecolor\": \"white\", \"ticks\": \"\"}}, \"scene\": {\"xaxis\": {\"backgroundcolor\": \"#E5ECF6\", \"gridcolor\": \"white\", \"gridwidth\": 2, \"linecolor\": \"white\", \"showbackground\": true, \"ticks\": \"\", \"zerolinecolor\": \"white\"}, \"yaxis\": {\"backgroundcolor\": \"#E5ECF6\", \"gridcolor\": \"white\", \"gridwidth\": 2, \"linecolor\": \"white\", \"showbackground\": true, \"ticks\": \"\", \"zerolinecolor\": \"white\"}, \"zaxis\": {\"backgroundcolor\": \"#E5ECF6\", \"gridcolor\": \"white\", \"gridwidth\": 2, \"linecolor\": \"white\", \"showbackground\": true, \"ticks\": \"\", \"zerolinecolor\": \"white\"}}, \"shapedefaults\": {\"line\": {\"color\": \"#2a3f5f\"}}, \"ternary\": {\"aaxis\": {\"gridcolor\": \"white\", \"linecolor\": \"white\", \"ticks\": \"\"}, \"baxis\": {\"gridcolor\": \"white\", \"linecolor\": \"white\", \"ticks\": \"\"}, \"bgcolor\": \"#E5ECF6\", \"caxis\": {\"gridcolor\": \"white\", \"linecolor\": \"white\", \"ticks\": \"\"}}, \"title\": {\"x\": 0.05}, \"xaxis\": {\"automargin\": true, \"gridcolor\": \"white\", \"linecolor\": \"white\", \"ticks\": \"\", \"title\": {\"standoff\": 15}, \"zerolinecolor\": \"white\", \"zerolinewidth\": 2}, \"yaxis\": {\"automargin\": true, \"gridcolor\": \"white\", \"linecolor\": \"white\", \"ticks\": \"\", \"title\": {\"standoff\": 15}, \"zerolinecolor\": \"white\", \"zerolinewidth\": 2}}}, \"title\": {\"text\": \"Volume of 3 assets - AMAZON, APPLE, GOOGLE\"}, \"xaxis\": {\"title\": {\"text\": \"Year\"}}, \"yaxis\": {\"title\": {\"text\": \"Volume\"}}},\n",
              "                        {\"responsive\": true}\n",
              "                    ).then(function(){\n",
              "                            \n",
              "var gd = document.getElementById('707bdeda-f962-4481-9d77-e8200c46b625');\n",
              "var x = new MutationObserver(function (mutations, observer) {{\n",
              "        var display = window.getComputedStyle(gd).display;\n",
              "        if (!display || display === 'none') {{\n",
              "            console.log([gd, 'removed!']);\n",
              "            Plotly.purge(gd);\n",
              "            observer.disconnect();\n",
              "        }}\n",
              "}});\n",
              "\n",
              "// Listen for the removal of the full notebook cells\n",
              "var notebookContainer = gd.closest('#notebook-container');\n",
              "if (notebookContainer) {{\n",
              "    x.observe(notebookContainer, {childList: true});\n",
              "}}\n",
              "\n",
              "// Listen for the clearing of the current output cell\n",
              "var outputEl = gd.closest('.output');\n",
              "if (outputEl) {{\n",
              "    x.observe(outputEl, {childList: true});\n",
              "}}\n",
              "\n",
              "                        })\n",
              "                };\n",
              "                \n",
              "            </script>\n",
              "        </div>\n",
              "</body>\n",
              "</html>"
            ]
          },
          "metadata": {
            "tags": []
          }
        }
      ]
    },
    {
      "cell_type": "code",
      "metadata": {
        "id": "Jyp1tNfc-4wR"
      },
      "source": [
        "df['price_diff'] = df['close'] - df['open']\n",
        "grouped = df.groupby('date').agg({'price_diff': ['std', 'min']}).reset_index()"
      ],
      "execution_count": 38,
      "outputs": []
    },
    {
      "cell_type": "code",
      "metadata": {
        "colab": {
          "base_uri": "https://localhost:8080/"
        },
        "id": "KpxvqpJL-87h",
        "outputId": "cca7a1ff-714e-47e0-e2e0-3457290b235d"
      },
      "source": [
        "print(f\"Average standard deviation of price change within a day in {grouped['price_diff']['std'].mean():.4f}.\")"
      ],
      "execution_count": 39,
      "outputs": [
        {
          "output_type": "stream",
          "text": [
            "Average standard deviation of price change within a day in 0.8927.\n"
          ],
          "name": "stdout"
        }
      ]
    },
    {
      "cell_type": "code",
      "metadata": {
        "id": "TRVqZmJL_ACC"
      },
      "source": [
        "df1.drop(['symbol'], axis=1, inplace=True)"
      ],
      "execution_count": 40,
      "outputs": []
    },
    {
      "cell_type": "code",
      "metadata": {
        "colab": {
          "base_uri": "https://localhost:8080/"
        },
        "id": "SVnF85aq_Ccz",
        "outputId": "74875620-0e6d-4d10-f982-cc374eed1a19"
      },
      "source": [
        "colors = ['#C71585','#0000CD']\n",
        "sns.set(palette=colors, font='Serif', style='white', rc={'axes.facecolor':'whitesmoke', 'figure.facecolor':'whitesmoke'})\n",
        "\n",
        "df1.corr()['close']"
      ],
      "execution_count": 41,
      "outputs": [
        {
          "output_type": "execute_result",
          "data": {
            "text/plain": [
              "open      0.987407\n",
              "close     1.000000\n",
              "low       0.993711\n",
              "high      0.994785\n",
              "volume    0.248508\n",
              "Name: close, dtype: float64"
            ]
          },
          "metadata": {
            "tags": []
          },
          "execution_count": 41
        }
      ]
    },
    {
      "cell_type": "code",
      "metadata": {
        "colab": {
          "base_uri": "https://localhost:8080/",
          "height": 506
        },
        "id": "2PX3lhHK_D-V",
        "outputId": "fd26e401-447c-4cc3-af68-0b257fa03ee8"
      },
      "source": [
        "fig=plt.figure(figsize=(15,8))\n",
        "sns.heatmap(df1.corr(), annot=True, cmap=[colors[0],colors[1]], linecolor='white', linewidth=2 )"
      ],
      "execution_count": 42,
      "outputs": [
        {
          "output_type": "execute_result",
          "data": {
            "text/plain": [
              "<matplotlib.axes._subplots.AxesSubplot at 0x7f913b110090>"
            ]
          },
          "metadata": {
            "tags": []
          },
          "execution_count": 42
        },
        {
          "output_type": "display_data",
          "data": {
            "image/png": "[encoded data removed]",
            "text/plain": [
              "<Figure size 1080x576 with 2 Axes>"
            ]
          },
          "metadata": {
            "tags": []
          }
        }
      ]
    },
    {
      "cell_type": "markdown",
      "metadata": {
        "id": "uiadYRHM-Ii2"
      },
      "source": [
        "# Train and Test dataset"
      ]
    },
    {
      "cell_type": "code",
      "metadata": {
        "id": "Sa2EU_Yq-ANA"
      },
      "source": [
        "X=df1[['date','volume','open']]\n",
        "y=df1['close']"
      ],
      "execution_count": 33,
      "outputs": []
    },
    {
      "cell_type": "code",
      "metadata": {
        "id": "rTOZBCfw-MDF"
      },
      "source": [
        "XX_train = X[:1000]\n",
        "XX_test = X[1000:]\n",
        "\n",
        "y_train = y[:1000]\n",
        "y_test = y[1000:]"
      ],
      "execution_count": 34,
      "outputs": []
    },
    {
      "cell_type": "code",
      "metadata": {
        "colab": {
          "base_uri": "https://localhost:8080/"
        },
        "id": "5FPGgjoWAfda",
        "outputId": "a60063a8-44b1-47dc-83cf-a9adea0672c3"
      },
      "source": [
        "print(\"Starting date : {}\".format(XX_test['date'].min()))\n",
        "print(\"Ending   date : {}\".format(XX_test['date'].max()))"
      ],
      "execution_count": 51,
      "outputs": [
        {
          "output_type": "stream",
          "text": [
            "Starting date : NaT\n",
            "Ending   date : NaT\n"
          ],
          "name": "stdout"
        }
      ]
    },
    {
      "cell_type": "code",
      "metadata": {
        "id": "tlr6uDMo-OAI"
      },
      "source": [
        "X_train = XX_train[['volume','open']]\n",
        "X_test = XX_test[['volume','open']]"
      ],
      "execution_count": 35,
      "outputs": []
    },
    {
      "cell_type": "code",
      "metadata": {
        "id": "ucHmmXzi-aTu"
      },
      "source": [
        "from sklearn.preprocessing import StandardScaler\n",
        "scaler = StandardScaler()\n",
        "X_train = scaler.fit_transform(X_train)"
      ],
      "execution_count": 53,
      "outputs": []
    },
    {
      "cell_type": "code",
      "metadata": {
        "id": "pmfcKBb2_Y6v"
      },
      "source": [
        "from sklearn.linear_model import LinearRegression\n",
        "from sklearn.metrics import r2_score, mean_squared_error, mean_absolute_error\n",
        "from sklearn import set_config\n",
        "model = LinearRegression()\n",
        "model.fit(X_train,y_train)\n",
        "pred=model.predict(X_train)\n",
        "sc=np.round(model.score(X_train, y_train),2) * 100\n",
        "r2=np.round(r2_score(y_train,pred),2)\n",
        "mse=np.round(mean_squared_error(y_train,pred),2)\n",
        "mae=np.round(mean_squared_error(y_train,pred),2)"
      ],
      "execution_count": 55,
      "outputs": []
    },
    {
      "cell_type": "code",
      "metadata": {
        "id": "BwEs3RGL_kW2"
      },
      "source": [
        "pred_df = pd.DataFrame(pred,y_train.index,['prediction'])\n",
        "y_train = pd.DataFrame(y_train,y_train.index,['close'])\n",
        "\n",
        "XX_test = XX_test.join(pred_df)\n",
        "XX_test = XX_test.join(y_train)"
      ],
      "execution_count": 59,
      "outputs": []
    },
    {
      "cell_type": "code",
      "metadata": {
        "colab": {
          "base_uri": "https://localhost:8080/",
          "height": 48
        },
        "id": "W-OV-BGVBX1g",
        "outputId": "11a40c62-8013-44b9-8cc3-d06d8fcf3379"
      },
      "source": [
        "XX_test\n"
      ],
      "execution_count": 60,
      "outputs": [
        {
          "output_type": "execute_result",
          "data": {
            "text/html": [
              "<div>\n",
              "<style scoped>\n",
              "    .dataframe tbody tr th:only-of-type {\n",
              "        vertical-align: middle;\n",
              "    }\n",
              "\n",
              "    .dataframe tbody tr th {\n",
              "        vertical-align: top;\n",
              "    }\n",
              "\n",
              "    .dataframe thead th {\n",
              "        text-align: right;\n",
              "    }\n",
              "</style>\n",
              "<table border=\"1\" class=\"dataframe\">\n",
              "  <thead>\n",
              "    <tr style=\"text-align: right;\">\n",
              "      <th></th>\n",
              "      <th>date</th>\n",
              "      <th>volume</th>\n",
              "      <th>open</th>\n",
              "      <th>prediction</th>\n",
              "      <th>close</th>\n",
              "    </tr>\n",
              "  </thead>\n",
              "  <tbody>\n",
              "  </tbody>\n",
              "</table>\n",
              "</div>"
            ],
            "text/plain": [
              "Empty DataFrame\n",
              "Columns: [date, volume, open, prediction, close]\n",
              "Index: []"
            ]
          },
          "metadata": {
            "tags": []
          },
          "execution_count": 60
        }
      ]
    },
    {
      "cell_type": "markdown",
      "metadata": {
        "id": "N8GstFB_C9lp"
      },
      "source": [
        "#LSTM"
      ]
    },
    {
      "cell_type": "code",
      "metadata": {
        "id": "BFeXaU1sC7wG"
      },
      "source": [
        "X=df1[['open']]\n",
        "y=df1['close']\n",
        "dates = df1['date']\n",
        "length=100"
      ],
      "execution_count": 63,
      "outputs": []
    },
    {
      "cell_type": "code",
      "metadata": {
        "id": "SVyapwYgCSVL"
      },
      "source": [
        "training_set = X.iloc[:1000].values\n",
        "test_set = X.iloc[1000:].values\n",
        "test_dates = dates[1000:]\n"
      ],
      "execution_count": 64,
      "outputs": []
    },
    {
      "cell_type": "code",
      "metadata": {
        "id": "W54LHzB-C2Rj"
      },
      "source": [
        "maxOpen = max(training_set)\n",
        "minOpen = min(training_set)\n",
        "\n",
        "from sklearn.preprocessing import MinMaxScaler\n",
        "sc = MinMaxScaler(feature_range = (0, 1))\n",
        "training_set_scaled = sc.fit_transform(training_set)"
      ],
      "execution_count": 67,
      "outputs": []
    },
    {
      "cell_type": "code",
      "metadata": {
        "id": "Y3rAAVuRDILT"
      },
      "source": [
        "X_train = []\n",
        "y_train = []\n",
        "\n",
        "for i in range(length, len(training_set)):\n",
        "    X_train.append(training_set_scaled[i-length:i, 0])\n",
        "    y_train.append(training_set_scaled[i, 0])\n",
        "    \n",
        "X_train, y_train = np.array(X_train), np.array(y_train)\n",
        "X_train = np.reshape(X_train, (X_train.shape[0], X_train.shape[1], 1))\n"
      ],
      "execution_count": 68,
      "outputs": []
    },
    {
      "cell_type": "code",
      "metadata": {
        "colab": {
          "base_uri": "https://localhost:8080/"
        },
        "id": "uSWmtdwNDzcp",
        "outputId": "15d3f5c2-bd3e-4c02-8c36-ee4ec5879d08"
      },
      "source": [
        "from tensorflow.keras.models import Sequential\n",
        "from tensorflow.keras.layers import Dense, LSTM, Dropout\n",
        "model = Sequential()\n",
        "model.add(LSTM(units = 50, return_sequences = True, input_shape = (X_train.shape[1], 1)))\n",
        "model.add(Dropout(0.2))\n",
        "model.add(LSTM(units = 50, return_sequences = True))\n",
        "model.add(Dropout(0.2))\n",
        "model.add(LSTM(units = 50, return_sequences = True))\n",
        "model.add(Dropout(0.2))\n",
        "model.add(LSTM(units = 50))\n",
        "model.add(Dropout(0.2))\n",
        "model.add(Dense(units = 1))\n",
        "\n",
        "model.compile(optimizer = 'adam', loss = 'mean_squared_error')\n",
        "\n",
        "model.fit(X_train, y_train, validation_data=(X_test,y_test),epochs = 100, batch_size = 32)"
      ],
      "execution_count": 69,
      "outputs": [
        {
          "output_type": "stream",
          "text": [
            "Epoch 1/100\n",
            "3/3 [==============================] - 7s 193ms/step - loss: 0.0510\n",
            "Epoch 2/100\n",
            "3/3 [==============================] - 1s 186ms/step - loss: 0.0187\n",
            "Epoch 3/100\n",
            "3/3 [==============================] - 1s 184ms/step - loss: 0.0229\n",
            "Epoch 4/100\n",
            "3/3 [==============================] - 1s 187ms/step - loss: 0.0161\n",
            "Epoch 5/100\n",
            "3/3 [==============================] - 1s 182ms/step - loss: 0.0168\n",
            "Epoch 6/100\n",
            "3/3 [==============================] - 1s 187ms/step - loss: 0.0156\n",
            "Epoch 7/100\n",
            "3/3 [==============================] - 1s 185ms/step - loss: 0.0135\n",
            "Epoch 8/100\n",
            "3/3 [==============================] - 1s 191ms/step - loss: 0.0153\n",
            "Epoch 9/100\n",
            "3/3 [==============================] - 1s 184ms/step - loss: 0.0131\n",
            "Epoch 10/100\n",
            "3/3 [==============================] - 1s 185ms/step - loss: 0.0127\n",
            "Epoch 11/100\n",
            "3/3 [==============================] - 1s 188ms/step - loss: 0.0133\n",
            "Epoch 12/100\n",
            "3/3 [==============================] - 1s 176ms/step - loss: 0.0135\n",
            "Epoch 13/100\n",
            "3/3 [==============================] - 1s 180ms/step - loss: 0.0125\n",
            "Epoch 14/100\n",
            "3/3 [==============================] - 1s 203ms/step - loss: 0.0117\n",
            "Epoch 15/100\n",
            "3/3 [==============================] - 1s 182ms/step - loss: 0.0143\n",
            "Epoch 16/100\n",
            "3/3 [==============================] - 1s 180ms/step - loss: 0.0138\n",
            "Epoch 17/100\n",
            "3/3 [==============================] - 1s 181ms/step - loss: 0.0133\n",
            "Epoch 18/100\n",
            "3/3 [==============================] - 1s 183ms/step - loss: 0.0128\n",
            "Epoch 19/100\n",
            "3/3 [==============================] - 1s 182ms/step - loss: 0.0124\n",
            "Epoch 20/100\n",
            "3/3 [==============================] - 1s 187ms/step - loss: 0.0134\n",
            "Epoch 21/100\n",
            "3/3 [==============================] - 1s 180ms/step - loss: 0.0123\n",
            "Epoch 22/100\n",
            "3/3 [==============================] - 1s 178ms/step - loss: 0.0125\n",
            "Epoch 23/100\n",
            "3/3 [==============================] - 1s 181ms/step - loss: 0.0120\n",
            "Epoch 24/100\n",
            "3/3 [==============================] - 1s 177ms/step - loss: 0.0129\n",
            "Epoch 25/100\n",
            "3/3 [==============================] - 1s 178ms/step - loss: 0.0119\n",
            "Epoch 26/100\n",
            "3/3 [==============================] - 1s 188ms/step - loss: 0.0120\n",
            "Epoch 27/100\n",
            "3/3 [==============================] - 1s 187ms/step - loss: 0.0119\n",
            "Epoch 28/100\n",
            "3/3 [==============================] - 1s 178ms/step - loss: 0.0127\n",
            "Epoch 29/100\n",
            "3/3 [==============================] - 1s 183ms/step - loss: 0.0123\n",
            "Epoch 30/100\n",
            "3/3 [==============================] - 1s 179ms/step - loss: 0.0120\n",
            "Epoch 31/100\n",
            "3/3 [==============================] - 1s 184ms/step - loss: 0.0107\n",
            "Epoch 32/100\n",
            "3/3 [==============================] - 1s 190ms/step - loss: 0.0111\n",
            "Epoch 33/100\n",
            "3/3 [==============================] - 1s 182ms/step - loss: 0.0120\n",
            "Epoch 34/100\n",
            "3/3 [==============================] - 1s 176ms/step - loss: 0.0104\n",
            "Epoch 35/100\n",
            "3/3 [==============================] - 1s 178ms/step - loss: 0.0105\n",
            "Epoch 36/100\n",
            "3/3 [==============================] - 1s 178ms/step - loss: 0.0095\n",
            "Epoch 37/100\n",
            "3/3 [==============================] - 1s 184ms/step - loss: 0.0082\n",
            "Epoch 38/100\n",
            "3/3 [==============================] - 1s 186ms/step - loss: 0.0068\n",
            "Epoch 39/100\n",
            "3/3 [==============================] - 1s 180ms/step - loss: 0.0063\n",
            "Epoch 40/100\n",
            "3/3 [==============================] - 1s 185ms/step - loss: 0.0067\n",
            "Epoch 41/100\n",
            "3/3 [==============================] - 1s 181ms/step - loss: 0.0070\n",
            "Epoch 42/100\n",
            "3/3 [==============================] - 1s 179ms/step - loss: 0.0064\n",
            "Epoch 43/100\n",
            "3/3 [==============================] - 1s 188ms/step - loss: 0.0059\n",
            "Epoch 44/100\n",
            "3/3 [==============================] - 1s 183ms/step - loss: 0.0056\n",
            "Epoch 45/100\n",
            "3/3 [==============================] - 1s 176ms/step - loss: 0.0047\n",
            "Epoch 46/100\n",
            "3/3 [==============================] - 1s 183ms/step - loss: 0.0053\n",
            "Epoch 47/100\n",
            "3/3 [==============================] - 1s 180ms/step - loss: 0.0053\n",
            "Epoch 48/100\n",
            "3/3 [==============================] - 1s 188ms/step - loss: 0.0056\n",
            "Epoch 49/100\n",
            "3/3 [==============================] - 1s 189ms/step - loss: 0.0048\n",
            "Epoch 50/100\n",
            "3/3 [==============================] - 1s 180ms/step - loss: 0.0048\n",
            "Epoch 51/100\n",
            "3/3 [==============================] - 1s 182ms/step - loss: 0.0050\n",
            "Epoch 52/100\n",
            "3/3 [==============================] - 1s 180ms/step - loss: 0.0046\n",
            "Epoch 53/100\n",
            "3/3 [==============================] - 1s 180ms/step - loss: 0.0044\n",
            "Epoch 54/100\n",
            "3/3 [==============================] - 1s 184ms/step - loss: 0.0040\n",
            "Epoch 55/100\n",
            "3/3 [==============================] - 1s 185ms/step - loss: 0.0036\n",
            "Epoch 56/100\n",
            "3/3 [==============================] - 1s 180ms/step - loss: 0.0037\n",
            "Epoch 57/100\n",
            "3/3 [==============================] - 1s 182ms/step - loss: 0.0047\n",
            "Epoch 58/100\n",
            "3/3 [==============================] - 1s 183ms/step - loss: 0.0045\n",
            "Epoch 59/100\n",
            "3/3 [==============================] - 1s 185ms/step - loss: 0.0042\n",
            "Epoch 60/100\n",
            "3/3 [==============================] - 1s 191ms/step - loss: 0.0036\n",
            "Epoch 61/100\n",
            "3/3 [==============================] - 1s 180ms/step - loss: 0.0043\n",
            "Epoch 62/100\n",
            "3/3 [==============================] - 1s 183ms/step - loss: 0.0038\n",
            "Epoch 63/100\n",
            "3/3 [==============================] - 1s 182ms/step - loss: 0.0038\n",
            "Epoch 64/100\n",
            "3/3 [==============================] - 1s 185ms/step - loss: 0.0045\n",
            "Epoch 65/100\n",
            "3/3 [==============================] - 1s 180ms/step - loss: 0.0037\n",
            "Epoch 66/100\n",
            "3/3 [==============================] - 1s 191ms/step - loss: 0.0035\n",
            "Epoch 67/100\n",
            "3/3 [==============================] - 1s 189ms/step - loss: 0.0040\n",
            "Epoch 68/100\n",
            "3/3 [==============================] - 1s 200ms/step - loss: 0.0031\n",
            "Epoch 69/100\n",
            "3/3 [==============================] - 1s 182ms/step - loss: 0.0039\n",
            "Epoch 70/100\n",
            "3/3 [==============================] - 1s 192ms/step - loss: 0.0031\n",
            "Epoch 71/100\n",
            "3/3 [==============================] - 1s 182ms/step - loss: 0.0037\n",
            "Epoch 72/100\n",
            "3/3 [==============================] - 1s 184ms/step - loss: 0.0031\n",
            "Epoch 73/100\n",
            "3/3 [==============================] - 1s 183ms/step - loss: 0.0038\n",
            "Epoch 74/100\n",
            "3/3 [==============================] - 1s 178ms/step - loss: 0.0036\n",
            "Epoch 75/100\n",
            "3/3 [==============================] - 1s 197ms/step - loss: 0.0038\n",
            "Epoch 76/100\n",
            "3/3 [==============================] - 1s 179ms/step - loss: 0.0029\n",
            "Epoch 77/100\n",
            "3/3 [==============================] - 1s 183ms/step - loss: 0.0031\n",
            "Epoch 78/100\n",
            "3/3 [==============================] - 1s 182ms/step - loss: 0.0034\n",
            "Epoch 79/100\n",
            "3/3 [==============================] - 1s 184ms/step - loss: 0.0036\n",
            "Epoch 80/100\n",
            "3/3 [==============================] - 1s 191ms/step - loss: 0.0039\n",
            "Epoch 81/100\n",
            "3/3 [==============================] - 1s 203ms/step - loss: 0.0037\n",
            "Epoch 82/100\n",
            "3/3 [==============================] - 1s 180ms/step - loss: 0.0035\n",
            "Epoch 83/100\n",
            "3/3 [==============================] - 1s 179ms/step - loss: 0.0032\n",
            "Epoch 84/100\n",
            "3/3 [==============================] - 1s 181ms/step - loss: 0.0033\n",
            "Epoch 85/100\n",
            "3/3 [==============================] - 1s 182ms/step - loss: 0.0035\n",
            "Epoch 86/100\n",
            "3/3 [==============================] - 1s 188ms/step - loss: 0.0034\n",
            "Epoch 87/100\n",
            "3/3 [==============================] - 1s 186ms/step - loss: 0.0046\n",
            "Epoch 88/100\n",
            "3/3 [==============================] - 1s 189ms/step - loss: 0.0045\n",
            "Epoch 89/100\n",
            "3/3 [==============================] - 1s 193ms/step - loss: 0.0054\n",
            "Epoch 90/100\n",
            "3/3 [==============================] - 1s 183ms/step - loss: 0.0043\n",
            "Epoch 91/100\n",
            "3/3 [==============================] - 1s 183ms/step - loss: 0.0034\n",
            "Epoch 92/100\n",
            "3/3 [==============================] - 1s 190ms/step - loss: 0.0041\n",
            "Epoch 93/100\n",
            "3/3 [==============================] - 1s 181ms/step - loss: 0.0031\n",
            "Epoch 94/100\n",
            "3/3 [==============================] - 1s 186ms/step - loss: 0.0038\n",
            "Epoch 95/100\n",
            "3/3 [==============================] - 1s 188ms/step - loss: 0.0035\n",
            "Epoch 96/100\n",
            "3/3 [==============================] - 1s 183ms/step - loss: 0.0031\n",
            "Epoch 97/100\n",
            "3/3 [==============================] - 1s 186ms/step - loss: 0.0029\n",
            "Epoch 98/100\n",
            "3/3 [==============================] - 1s 183ms/step - loss: 0.0035\n",
            "Epoch 99/100\n",
            "3/3 [==============================] - 1s 178ms/step - loss: 0.0028\n",
            "Epoch 100/100\n",
            "3/3 [==============================] - 1s 193ms/step - loss: 0.0032\n"
          ],
          "name": "stdout"
        },
        {
          "output_type": "execute_result",
          "data": {
            "text/plain": [
              "<tensorflow.python.keras.callbacks.History at 0x7f90ea2a3450>"
            ]
          },
          "metadata": {
            "tags": []
          },
          "execution_count": 69
        }
      ]
    },
    {
      "cell_type": "code",
      "metadata": {
        "id": "ctK4p335ENSy"
      },
      "source": [
        "pred=model.predict(X_train)"
      ],
      "execution_count": 74,
      "outputs": []
    },
    {
      "cell_type": "code",
      "metadata": {
        "id": "TbvO6WQ4EjVQ"
      },
      "source": [
        "y_train = y_train.reshape(-1, 1)\n",
        "\n",
        "sc = MinMaxScaler(feature_range = (minOpen, maxOpen))\n",
        "pred_scaled = sc.fit_transform(pred)\n",
        "y_train_scaled=sc.transform(y_train)"
      ],
      "execution_count": 78,
      "outputs": []
    },
    {
      "cell_type": "code",
      "metadata": {
        "colab": {
          "base_uri": "https://localhost:8080/"
        },
        "id": "le3PQkF3Eliw",
        "outputId": "edb197d4-34e9-4424-9cc5-aa72d1585fd8"
      },
      "source": [
        "r2 = r2_score(y_train_scaled,pred_scaled)\n",
        "mse = mean_squared_error(y_train_scaled,pred_scaled)\n",
        "mae = mean_squared_error(y_train_scaled,pred_scaled)\n",
        "\n",
        "print('R2 Score : ',r2)\n",
        "print('Mean Squared error : ',mse)\n",
        "print('Mean Absolute error :',mae)"
      ],
      "execution_count": 80,
      "outputs": [
        {
          "output_type": "stream",
          "text": [
            "R2 Score :  0.8040660427530928\n",
            "Mean Squared error :  445.5390744767885\n",
            "Mean Absolute error : 445.5390744767885\n"
          ],
          "name": "stdout"
        }
      ]
    },
    {
      "cell_type": "code",
      "metadata": {
        "colab": {
          "base_uri": "https://localhost:8080/",
          "height": 414
        },
        "id": "Zvi6YvG7E_BC",
        "outputId": "e6736244-6035-406c-cd3e-52f2ac9f5fd8"
      },
      "source": [
        "train=pd.DataFrame(columns=['train','pred'])\n",
        "train['test']=y_train_scaled.flatten()\n",
        "train['pred']=pred_scaled.flatten()\n",
        "train"
      ],
      "execution_count": 83,
      "outputs": [
        {
          "output_type": "execute_result",
          "data": {
            "text/html": [
              "<div>\n",
              "<style scoped>\n",
              "    .dataframe tbody tr th:only-of-type {\n",
              "        vertical-align: middle;\n",
              "    }\n",
              "\n",
              "    .dataframe tbody tr th {\n",
              "        vertical-align: top;\n",
              "    }\n",
              "\n",
              "    .dataframe thead th {\n",
              "        text-align: right;\n",
              "    }\n",
              "</style>\n",
              "<table border=\"1\" class=\"dataframe\">\n",
              "  <thead>\n",
              "    <tr style=\"text-align: right;\">\n",
              "      <th></th>\n",
              "      <th>train</th>\n",
              "      <th>pred</th>\n",
              "      <th>test</th>\n",
              "    </tr>\n",
              "  </thead>\n",
              "  <tbody>\n",
              "    <tr>\n",
              "      <th>0</th>\n",
              "      <td>NaN</td>\n",
              "      <td>515.619995</td>\n",
              "      <td>512.224471</td>\n",
              "    </tr>\n",
              "    <tr>\n",
              "      <th>1</th>\n",
              "      <td>NaN</td>\n",
              "      <td>518.460876</td>\n",
              "      <td>530.157660</td>\n",
              "    </tr>\n",
              "    <tr>\n",
              "      <th>2</th>\n",
              "      <td>NaN</td>\n",
              "      <td>521.198303</td>\n",
              "      <td>501.819149</td>\n",
              "    </tr>\n",
              "    <tr>\n",
              "      <th>3</th>\n",
              "      <td>NaN</td>\n",
              "      <td>523.867920</td>\n",
              "      <td>516.207096</td>\n",
              "    </tr>\n",
              "    <tr>\n",
              "      <th>4</th>\n",
              "      <td>NaN</td>\n",
              "      <td>526.424011</td>\n",
              "      <td>535.613508</td>\n",
              "    </tr>\n",
              "    <tr>\n",
              "      <th>...</th>\n",
              "      <td>...</td>\n",
              "      <td>...</td>\n",
              "      <td>...</td>\n",
              "    </tr>\n",
              "    <tr>\n",
              "      <th>84</th>\n",
              "      <td>NaN</td>\n",
              "      <td>603.107544</td>\n",
              "      <td>613.285468</td>\n",
              "    </tr>\n",
              "    <tr>\n",
              "      <th>85</th>\n",
              "      <td>NaN</td>\n",
              "      <td>613.263367</td>\n",
              "      <td>623.944080</td>\n",
              "    </tr>\n",
              "    <tr>\n",
              "      <th>86</th>\n",
              "      <td>NaN</td>\n",
              "      <td>621.612976</td>\n",
              "      <td>610.983311</td>\n",
              "    </tr>\n",
              "    <tr>\n",
              "      <th>87</th>\n",
              "      <td>NaN</td>\n",
              "      <td>626.766296</td>\n",
              "      <td>613.999092</td>\n",
              "    </tr>\n",
              "    <tr>\n",
              "      <th>88</th>\n",
              "      <td>NaN</td>\n",
              "      <td>627.179993</td>\n",
              "      <td>615.932786</td>\n",
              "    </tr>\n",
              "  </tbody>\n",
              "</table>\n",
              "<p>89 rows × 3 columns</p>\n",
              "</div>"
            ],
            "text/plain": [
              "   train        pred        test\n",
              "0    NaN  515.619995  512.224471\n",
              "1    NaN  518.460876  530.157660\n",
              "2    NaN  521.198303  501.819149\n",
              "3    NaN  523.867920  516.207096\n",
              "4    NaN  526.424011  535.613508\n",
              "..   ...         ...         ...\n",
              "84   NaN  603.107544  613.285468\n",
              "85   NaN  613.263367  623.944080\n",
              "86   NaN  621.612976  610.983311\n",
              "87   NaN  626.766296  613.999092\n",
              "88   NaN  627.179993  615.932786\n",
              "\n",
              "[89 rows x 3 columns]"
            ]
          },
          "metadata": {
            "tags": []
          },
          "execution_count": 83
        }
      ]
    },
    {
      "cell_type": "code",
      "metadata": {
        "colab": {
          "base_uri": "https://localhost:8080/"
        },
        "id": "IOcc4YmnFhoE",
        "outputId": "ab133b90-03dc-4a89-c1fd-1231ea986e56"
      },
      "source": [
        "r2 = r2_score(y_train_scaled,pred_scaled)\n",
        "mse = mean_squared_error(y_train_scaled,pred_scaled)\n",
        "mae = mean_squared_error(y_train_scaled,pred_scaled)\n",
        "\n",
        "print('R2 Score : ',r2)\n",
        "print('Mean Squared error : ',mse)\n",
        "print('Mean Absolute error :',mae)"
      ],
      "execution_count": 86,
      "outputs": [
        {
          "output_type": "stream",
          "text": [
            "R2 Score :  0.8040660427530928\n",
            "Mean Squared error :  445.5390744767885\n",
            "Mean Absolute error : 445.5390744767885\n"
          ],
          "name": "stdout"
        }
      ]
    }
  ]
}